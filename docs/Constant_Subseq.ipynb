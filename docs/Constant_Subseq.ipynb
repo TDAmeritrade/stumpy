{
 "cells": [
  {
   "cell_type": "markdown",
   "id": "3e98146e",
   "metadata": {},
   "source": [
    "In matrix profile obtained with z-normalized Euclidean Distance, one challenge is to handle a subsequence that contain constant values. "
   ]
  },
  {
   "cell_type": "markdown",
   "id": "6937c2bd",
   "metadata": {},
   "source": [
    "Let us consider two subsequences T and T'. If both are constant subsequences, then their distance is 0 (because they are similar). But, what if only one of them, e.g. T, is constant, and the other one, T', is not constant? "
   ]
  },
  {
   "cell_type": "markdown",
   "id": "68fe0283",
   "metadata": {},
   "source": [
    "$T = \\{a, a, ..., a\\}$, with length `m`. <br>\n",
    "$T' = \\{T'_{0}, T'_{2}, ..., T'_{m-1}\\}$"
   ]
  },
  {
   "cell_type": "markdown",
   "id": "06ed366c",
   "metadata": {},
   "source": [
    "Therefore, their z-normalized versions are:"
   ]
  },
  {
   "cell_type": "markdown",
   "id": "a619978f",
   "metadata": {},
   "source": [
    "\n",
    "$$\n",
    "\\begin{align}\n",
    "T_{z} ={}&\n",
    "    \\frac{\n",
    "    T - \\mu_{T}\n",
    "    }{\n",
    "    \\sigma_{T}\n",
    "    } \\quad (1)\n",
    "\\end{align}\n",
    "$$\n"
   ]
  },
  {
   "cell_type": "markdown",
   "id": "aeb96b72",
   "metadata": {},
   "source": [
    "\n",
    "$$\n",
    "\\begin{align}\n",
    "T'_{z} ={}&\n",
    "    \\frac{\n",
    "    T' - \\mu_{T'}\n",
    "    }{\n",
    "    \\sigma_{T'}\n",
    "    } \\quad (2)\n",
    "\\end{align}\n",
    "$$\n"
   ]
  },
  {
   "cell_type": "markdown",
   "id": "7f1ca52e",
   "metadata": {},
   "source": [
    "Note that $\\sigma_{T}$ is 0. So, we cannot move forward with calculation of eq(1) unless we assume $\\sigma_{T}$ is not zero! Also, note that the eq(2) transformation means that the transformed subsequence $T'_{z}$ (let us call it $T''$) has mean of 0 and std of 1. Therefore:"
   ]
  },
  {
   "cell_type": "markdown",
   "id": "688946dd",
   "metadata": {},
   "source": [
    "Assumption: $\\sigma_{T} \\neq 0$ <br>\n",
    "**NOTE:** $T'_{z} = T'' = \\{T''_{0}, T''_{2}, ..., T''_{m-1}\\}$, which has $\\mu_{T''}=0$, and $\\sigma_{T''} = 1$. "
   ]
  },
  {
   "cell_type": "code",
   "execution_count": null,
   "id": "af93231e",
   "metadata": {},
   "outputs": [],
   "source": []
  },
  {
   "cell_type": "markdown",
   "id": "09e206c0",
   "metadata": {},
   "source": [
    "Therefore:"
   ]
  },
  {
   "cell_type": "markdown",
   "id": "fddb3a35",
   "metadata": {},
   "source": [
    "\n",
    "$$\n",
    "\\begin{align}\n",
    "ED_{znorm} (T, T') ={}&\n",
    "ED (T_{z}, T'_{z}) \\\\\n",
    "={}&\n",
    "ED (T_{z}, T'') \\\\\n",
    "={}&\n",
    "\\sqrt{\n",
    "\\sum \\limits_{i=0}^{m-1} \\left(\n",
    "T_{z}[i] - T''[i]\n",
    "\\right)^{2}\n",
    "}\n",
    "\\end{align}\n",
    "$$\n"
   ]
  },
  {
   "cell_type": "markdown",
   "id": "21fa6235",
   "metadata": {},
   "source": [
    "Note that $T_{z}[i] = \\frac{a - a}{\\sigma_{T}} = 0$. In other words, $T_{z}$ is all 0 (i.e. $T_{z} = 0$). \n",
    "\n",
    "Hence:"
   ]
  },
  {
   "cell_type": "markdown",
   "id": "018719dc",
   "metadata": {},
   "source": [
    "\n",
    "$$\n",
    "\\begin{align}\n",
    "ED_{znorm} (T, T') ={}&\n",
    "\\sqrt{\n",
    "\\sum \\limits_{i=0}^{m-1} \\left(\n",
    "T_{z}[i] - T''[i]\n",
    "\\right)^{2}\n",
    "} \\\\\n",
    "={}&\n",
    "\\sqrt{\n",
    "\\sum \\limits_{i=0}^{m-1} \\left(\n",
    "0 - T''[i]\n",
    "\\right)^{2}\n",
    "}\n",
    "\\\\\n",
    "={}&\n",
    "\\sqrt{\n",
    "\\sum \\limits_{i=0}^{m-1} T''[i]^{2}\n",
    "} \\quad (3)\n",
    "\\\\\n",
    "\\end{align}\n",
    "$$"
   ]
  },
  {
   "cell_type": "markdown",
   "id": "4044564a",
   "metadata": {},
   "source": [
    "Recall that $\\mu_{T''} = 0$ and $\\sigma_{T''} = 1$ (because $T''$ is z-normalized version of $T'$). So, we have:"
   ]
  },
  {
   "cell_type": "markdown",
   "id": "20a157b5",
   "metadata": {},
   "source": [
    "\n",
    "$$\n",
    "\\begin{align}\n",
    "\\sigma_{T''} ={}& \n",
    "\\sqrt{\n",
    "\\frac{\n",
    "\\sum \\limits_{i=0}^{m-1} {\\left(T''[i] - \\mu_{T''}\\right)^{2}}\n",
    "}{m}\n",
    "}\n",
    "\\\\\n",
    "={}&\n",
    "\\sqrt{\n",
    "\\frac{\n",
    "\\sum \\limits_{i=0}^{m-1} {\\left(T''[i] - 0\\right)^{2}}\n",
    "}{m}\n",
    "}\n",
    "\\\\\n",
    "={}&\n",
    "\\sqrt{\n",
    "\\frac{\n",
    "\\sum \\limits_{i=0}^{m-1} {T''[i] ^{2}}\n",
    "}{m}\n",
    "} \n",
    "\\\\\n",
    "1 ={}&\n",
    "\\sqrt{\n",
    "\\frac{\n",
    "\\sum \\limits_{i=0}^{m-1} {T''[i] ^{2}}\n",
    "}{m}\n",
    "} \\quad (4)\n",
    "\\end{align}\n",
    "$$\n"
   ]
  },
  {
   "cell_type": "markdown",
   "id": "148e64b5",
   "metadata": {},
   "source": [
    "with eq(3) and eq(4): "
   ]
  },
  {
   "cell_type": "markdown",
   "id": "c56f7e38",
   "metadata": {},
   "source": [
    "\n",
    "$$\n",
    "\\begin{align}\n",
    "ED_{znorm} (T, T') ={}&\n",
    "\\sqrt{\n",
    "\\sum \\limits_{i=0}^{m-1} T''[i]^{2}\n",
    "}\n",
    "\\\\\n",
    "={}&\n",
    "\\sqrt{\\frac{m}{m}\n",
    "\\sum \\limits_{i=0}^{m-1} T''[i]^{2}\n",
    "}\n",
    "\\\\\n",
    "={}&\n",
    "\\sqrt{m}\\sqrt{\\frac{\n",
    "\\sum \\limits_{i=0}^{m-1} T''[i]^{2}\n",
    "}{m}\n",
    "}\n",
    "\\\\\n",
    "={}&\n",
    "\\sqrt{m} \\cdot 1\n",
    "\\\\\n",
    "={}&\n",
    "\\sqrt{m}\n",
    "\\end{align}\n",
    "$$"
   ]
  },
  {
   "cell_type": "code",
   "execution_count": null,
   "id": "d48beac1",
   "metadata": {},
   "outputs": [],
   "source": []
  }
 ],
 "metadata": {
  "kernelspec": {
   "display_name": "Python 3 (ipykernel)",
   "language": "python",
   "name": "python3"
  },
  "language_info": {
   "codemirror_mode": {
    "name": "ipython",
    "version": 3
   },
   "file_extension": ".py",
   "mimetype": "text/x-python",
   "name": "python",
   "nbconvert_exporter": "python",
   "pygments_lexer": "ipython3",
   "version": "3.10.4"
  }
 },
 "nbformat": 4,
 "nbformat_minor": 5
}
