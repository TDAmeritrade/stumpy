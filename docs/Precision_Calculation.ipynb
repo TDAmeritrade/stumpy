{
 "cells": [
  {
   "cell_type": "markdown",
   "id": "899290c2",
   "metadata": {},
   "source": [
    "In this notebook, we try to provide some calculations that might help clarifying the precision in z-normalize case."
   ]
  },
  {
   "cell_type": "markdown",
   "id": "1d62668e",
   "metadata": {},
   "source": [
    "# Approach I:"
   ]
  },
  {
   "cell_type": "markdown",
   "id": "35abf2be",
   "metadata": {},
   "source": [
    "$d = \\sqrt{2m (1 - \\rho)}$\n",
    "\n",
    "Now, we take the derivative of function $f(\\rho) = \\sqrt{2m (1 - \\rho)}$ with respect to the variable $\\rho$:\n",
    "\n",
    "$\\frac{df}{d\\rho} = \\sqrt{2m}\\frac{-1}{2\\sqrt{1 - \\rho}}$"
   ]
  },
  {
   "cell_type": "markdown",
   "id": "a17ad50d",
   "metadata": {},
   "source": [
    "Now, let us assume $d$ is the precise z-normalized distance between two subsequence, and $\\hat{d}$ the z-normalized distance with imprecision. Similarly, $\\rho$ and $\\hat{\\rho}$ are, respectively, the pearson values, wihout and with imprecision.\n",
    "\n",
    "$d  - \\hat{d} = \\Delta{d}$\n",
    "\n",
    "$\\rho  - \\hat{\\rho} = \\Delta{\\rho}$"
   ]
  },
  {
   "cell_type": "markdown",
   "id": "87a316ba",
   "metadata": {},
   "source": [
    "So, if we assume the two values $\\Delta{d}$ and $\\Delta{\\rho}$ are small values, then we can say:"
   ]
  },
  {
   "cell_type": "markdown",
   "id": "88f584ff",
   "metadata": {},
   "source": [
    "\n",
    "$$\n",
    "\\begin{align}\n",
    "\\frac{\\Delta{d}}{\\Delta{\\rho}} \\approx{}&\n",
    "\\frac{-\\sqrt{2m}}{2\\sqrt{1 - \\rho}}\n",
    "\\end{align}\n",
    "$$\n"
   ]
  },
  {
   "cell_type": "markdown",
   "id": "e399ace5",
   "metadata": {},
   "source": [
    "Hence:"
   ]
  },
  {
   "cell_type": "markdown",
   "id": "662679a1",
   "metadata": {},
   "source": [
    "\n",
    "$$\n",
    "\\begin{align}\n",
    "\\Delta{d} \\approx{}&\n",
    "\\frac{-\\sqrt{2m}\\Delta{\\rho}}{2\\sqrt{1 - \\rho}}\n",
    "\\end{align}\n",
    "$$\n"
   ]
  },
  {
   "cell_type": "markdown",
   "id": "05636e81",
   "metadata": {},
   "source": [
    "Let's say we want to have small error in z-normalized distance, i.e. $|\\Delta{d}| < \\epsilon_{d}$. (In STUMPY, $\\epsilon_{d}$ is set by config variable `STUMPY_TEST_PRECISION`, which is default to 1e-5.)"
   ]
  },
  {
   "cell_type": "markdown",
   "id": "cc569fbc",
   "metadata": {},
   "source": [
    "\n",
    "$$\n",
    "\\begin{align}\n",
    "|\\Delta{d}| \\le \\epsilon_{d}\n",
    "\\end{align}\n",
    "$$\n"
   ]
  },
  {
   "cell_type": "markdown",
   "id": "426fe547",
   "metadata": {},
   "source": [
    "\n",
    "$$\n",
    "\\begin{align}\n",
    "\\left|\\frac{-\\sqrt{2m}\\Delta{\\rho}}{2\\sqrt{1 - \\rho}}\\right| \\le \\epsilon_{d}\n",
    "\\end{align}\n",
    "$$\n"
   ]
  },
  {
   "cell_type": "markdown",
   "id": "fdea8b61",
   "metadata": {},
   "source": [
    "Also, note that:\n",
    "$\\Delta_{\\rho} = \\rho - \\hat{\\rho} = \\frac{cov}{s} - \\frac{\\hat{cov}}{s} = \\frac{\\Delta{cov}}{s}$, **where `s` is the multiplication of std values of two subsequenes** for which the cov is being calculated."
   ]
  },
  {
   "cell_type": "markdown",
   "id": "5cf90e29",
   "metadata": {},
   "source": [
    "Note that we assumed the standard deviation has no imprecision."
   ]
  },
  {
   "cell_type": "markdown",
   "id": "cf75b5d0",
   "metadata": {},
   "source": [
    "\n",
    "$$\n",
    "\\begin{align}\n",
    "\\left|\\frac{\\sqrt{2m}\\Delta{cov}}{2s\\sqrt{1 - \\rho}}\\right| \\le \\epsilon_{d}\n",
    "\\end{align}\n",
    "$$\n"
   ]
  },
  {
   "cell_type": "markdown",
   "id": "880334cb",
   "metadata": {},
   "source": [
    "Hence:"
   ]
  },
  {
   "cell_type": "markdown",
   "id": "4fc3aca6",
   "metadata": {},
   "source": [
    "\n",
    "$$\n",
    "\\begin{align}\n",
    "\\left|\\frac{2s\\sqrt{1 - \\rho}}{\\sqrt{2m}\\Delta{cov}}\\right| \\ge \\frac{1}{\\epsilon_{d}}\n",
    "\\end{align}\n",
    "$$"
   ]
  },
  {
   "cell_type": "markdown",
   "id": "0e1dd1f5",
   "metadata": {},
   "source": [
    "\n",
    "$$\n",
    "\\begin{align}\n",
    "s \\ge \\frac{\\sqrt{2m}|\\Delta{cov}|}{2\\epsilon_{d}\\sqrt{1 - \\rho}}\n",
    "\\end{align}\n",
    "$$\n"
   ]
  },
  {
   "cell_type": "markdown",
   "id": "ab2d537e",
   "metadata": {},
   "source": [
    "So, if have no imprecision in `cov`, i.e. $\\Delta{cov}=0$, then, $s \\ge 0$, which is always satisfied. But, if we have imprecision in `cov`, i.e. $\\Delta{cov} \\ne 0$, then `s` should satisfiy the inequality above, otherwise, we the imprecision in distance, $|\\Delta{d}|$, will be more than $\\epsilon_{d}$ (hence, error in STUMPY test suite)"
   ]
  },
  {
   "cell_type": "markdown",
   "id": "5d5dbc2a",
   "metadata": {},
   "source": [
    "# Approach II:"
   ]
  },
  {
   "cell_type": "markdown",
   "id": "310010fd",
   "metadata": {},
   "source": [
    "Let us assume $d$ is the precise z-normalized distance between two subsequence, and $\\hat{d}$ is the z-normalized distance with imprecision."
   ]
  },
  {
   "cell_type": "markdown",
   "id": "d4a7fdef",
   "metadata": {},
   "source": [
    "\n",
    "$$\n",
    "\\begin{align}\n",
    "d - \\hat{d} ={}& \\Delta{d}\n",
    "\\\\\n",
    "\\sqrt{2m(1-\\rho)} - \\sqrt{2m(1 - \\hat{\\rho})} ={}& \\Delta{d}\n",
    "\\\\\n",
    "\\sqrt{1-\\rho} - \\sqrt{1 - \\hat{\\rho}} ={}& \\frac{\\Delta{d}}{\\sqrt{2m}}\n",
    "\\end{align}\n",
    "$$"
   ]
  },
  {
   "cell_type": "markdown",
   "id": "e72edc34",
   "metadata": {},
   "source": [
    "Also, recall that $\\rho = \\frac{cov}{stddev}$, where `cov` is the covariance between two subsequence and `stddev` is the mutiplication of the standard devations of the two subsequences. Hereafter, it is denoted as `s`. We also assume `s` is exact and has no imprecision."
   ]
  },
  {
   "cell_type": "markdown",
   "id": "527970c3",
   "metadata": {},
   "source": [
    "$\\rho = \\frac{cov}{s}$\n",
    "\n",
    "$\\hat{\\rho} = \\frac{\\hat{cov}}{s}$\n",
    "\n",
    "\n",
    "Hence:\n",
    "\n",
    "$\\rho - \\hat{\\rho} = \\frac{\\Delta{cov}}{s}$"
   ]
  },
  {
   "cell_type": "markdown",
   "id": "7a28b1af",
   "metadata": {},
   "source": [
    "Now, let us solve the following equations:"
   ]
  },
  {
   "cell_type": "markdown",
   "id": "f177c1a6",
   "metadata": {},
   "source": [
    "\n",
    "$$\n",
    "\\begin{align}\n",
    "   \\begin{cases}\n",
    "      \\sqrt{1-\\rho} - \\sqrt{1 - \\hat{\\rho}} ={}& \\frac{\\Delta{d}}{\\sqrt{2m}}\n",
    "      \\\\\n",
    "      \\rho - \\hat{\\rho} = \\frac{\\Delta{cov}}{s}\n",
    "    \\end{cases}\n",
    "\\end{align}\n",
    "$$"
   ]
  },
  {
   "cell_type": "markdown",
   "id": "e47990d3",
   "metadata": {},
   "source": [
    "we define new variables:\n",
    "\n",
    "$\\rho' \\triangleq 1 - \\rho$; note that $\\rho'$ is in range `[0, 2]`\n",
    "\n",
    "$\\hat{\\rho}' \\triangleq 1 - \\hat{\\rho}$; note that $\\hat{\\rho}'$ is in range `[0, 2]`"
   ]
  },
  {
   "cell_type": "markdown",
   "id": "bee64357",
   "metadata": {},
   "source": [
    "Hence, we now have:"
   ]
  },
  {
   "cell_type": "markdown",
   "id": "d0d3e4f6",
   "metadata": {},
   "source": [
    "\n",
    "$$\n",
    "\\begin{align}\n",
    "   \\begin{cases}\n",
    "      \\sqrt{\\rho'} - \\sqrt{\\hat{\\rho}'} ={}& \\frac{\\Delta{d}}{\\sqrt{2m}}\n",
    "      \\\\\n",
    "      \\hat{\\rho}' - \\rho' ={}& \\frac{\\Delta{cov}}{s}\n",
    "    \\end{cases}\n",
    "\\end{align}\n",
    "$$"
   ]
  },
  {
   "cell_type": "markdown",
   "id": "1060a03e",
   "metadata": {},
   "source": [
    "And, we define new variables:\n",
    "\n",
    "$x \\triangleq \\sqrt{\\rho'}$, note that x is in range $[0, \\sqrt{2}]$\n",
    "\n",
    "$y \\triangleq \\sqrt{\\hat{\\rho}'}$, note that x is in range $[0, \\sqrt{2}]$"
   ]
  },
  {
   "cell_type": "markdown",
   "id": "521b5726",
   "metadata": {},
   "source": [
    "Hence:"
   ]
  },
  {
   "cell_type": "markdown",
   "id": "f144188c",
   "metadata": {},
   "source": [
    "\n",
    "$$\n",
    "\\begin{align}\n",
    "   \\begin{cases}\n",
    "      x - y ={}& \\frac{\\Delta{d}}{\\sqrt{2m}}\n",
    "      \\\\\n",
    "      y^{2} - x^{2} ={}& \\frac{\\Delta{cov}}{s}\n",
    "    \\end{cases}\n",
    "\\end{align}\n",
    "$$\n"
   ]
  },
  {
   "cell_type": "markdown",
   "id": "d42b7e1f",
   "metadata": {},
   "source": [
    "Thus,\n",
    "\n",
    "\n",
    "$$\n",
    "\\begin{align}\n",
    "   \\begin{cases}\n",
    "      x - y ={}& \\frac{\\Delta{d}}{\\sqrt{2m}}\n",
    "      \\\\\n",
    "      (y - x)(y + x) ={}& \\frac{\\Delta{cov}}{s}\n",
    "    \\end{cases}\n",
    "\\end{align}\n",
    "$$\n"
   ]
  },
  {
   "cell_type": "markdown",
   "id": "172ab9e8",
   "metadata": {},
   "source": [
    "By dividing the second equation by the first equation, we can find the equation for `y + x`. Hence:"
   ]
  },
  {
   "cell_type": "markdown",
   "id": "d305e9ea",
   "metadata": {},
   "source": [
    "\n",
    "$$\n",
    "\\begin{align}\n",
    "   \\begin{cases}\n",
    "      x - y ={}& \\frac{\\Delta{d}}{\\sqrt{2m}}\n",
    "      \\\\\n",
    "      y + x ={}& -\\frac{\\Delta{cov}\\sqrt{2m}}{s\\Delta{d}}\n",
    "    \\end{cases}\n",
    "\\end{align}\n",
    "$$\n"
   ]
  },
  {
   "cell_type": "markdown",
   "id": "e23c1cf3",
   "metadata": {},
   "source": [
    "Now, we can solve this system of equations for `x` and `y`. Hence:"
   ]
  },
  {
   "cell_type": "markdown",
   "id": "ad92ebe0",
   "metadata": {},
   "source": [
    "\n",
    "$$\n",
    "\\begin{align}\n",
    "   \\begin{cases}\n",
    "      x  ={}& \\frac{1}{2}\\left(\n",
    "      \\frac{\\Delta{d}}{\\sqrt{2m}}\n",
    "      -\n",
    "      \\frac{\\Delta{cov}\\sqrt{2m}}{s\\Delta{d}}\n",
    "      \\right)\n",
    "      \\\\\n",
    "      y  ={}& -\\frac{1}{2}\\left(\n",
    "      \\frac{\\Delta{cov}\\sqrt{2m}}{s\\Delta{d}}\n",
    "      +\n",
    "      \\frac{\\Delta{d}}{\\sqrt{2m}}\n",
    "      \\right)\n",
    "    \\end{cases}\n",
    "\\end{align}\n",
    "$$\n"
   ]
  },
  {
   "cell_type": "markdown",
   "id": "dabaa326",
   "metadata": {},
   "source": [
    "**What now? :)**"
   ]
  },
  {
   "cell_type": "code",
   "execution_count": null,
   "id": "761f7c89",
   "metadata": {},
   "outputs": [],
   "source": []
  }
 ],
 "metadata": {
  "kernelspec": {
   "display_name": "Python 3 (ipykernel)",
   "language": "python",
   "name": "python3"
  },
  "language_info": {
   "codemirror_mode": {
    "name": "ipython",
    "version": 3
   },
   "file_extension": ".py",
   "mimetype": "text/x-python",
   "name": "python",
   "nbconvert_exporter": "python",
   "pygments_lexer": "ipython3",
   "version": "3.9.13"
  }
 },
 "nbformat": 4,
 "nbformat_minor": 5
}
