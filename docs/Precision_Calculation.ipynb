{
 "cells": [
  {
   "cell_type": "markdown",
   "id": "899290c2",
   "metadata": {},
   "source": [
    "In this notebook, we try to provide some calculations that might help clarifying the precision in z-normalize case."
   ]
  },
  {
   "cell_type": "markdown",
   "id": "20da06ac",
   "metadata": {},
   "source": [
    "Let us assume $d$ is the precise z-normalized distance between two subsequence, and $\\hat{d}$ is the z-normalized distance with imprecision."
   ]
  },
  {
   "cell_type": "markdown",
   "id": "d4a7fdef",
   "metadata": {},
   "source": [
    "\n",
    "$$\n",
    "\\begin{align}\n",
    "d - \\hat{d} ={}& \\Delta{d}\n",
    "\\\\\n",
    "\\sqrt{2m(1-\\rho)} - \\sqrt{2m(1 - \\hat{\\rho})} ={}& \\Delta{d}\n",
    "\\\\\n",
    "\\sqrt{1-\\rho} - \\sqrt{1 - \\hat{\\rho}} ={}& \\frac{\\Delta{d}}{\\sqrt{2m}}\n",
    "\\end{align}\n",
    "$$"
   ]
  },
  {
   "cell_type": "markdown",
   "id": "e72edc34",
   "metadata": {},
   "source": [
    "Also, recall that $\\rho = \\frac{cov}{stddev}$, where `cov` is the covariance between two subsequence and `stddev` is the mutiplication of the standard devations of the two subsequences. Hereafter, it is denoted as `s`. We also assume `s` is exact and has no imprecision."
   ]
  },
  {
   "cell_type": "markdown",
   "id": "527970c3",
   "metadata": {},
   "source": [
    "$\\rho = \\frac{cov}{s}$\n",
    "\n",
    "$\\hat{\\rho} = \\frac{\\hat{cov}}{s}$\n",
    "\n",
    "\n",
    "Hence:\n",
    "\n",
    "$\\rho - \\hat{\\rho} = \\frac{\\Delta{cov}}{s}$"
   ]
  },
  {
   "cell_type": "markdown",
   "id": "7a28b1af",
   "metadata": {},
   "source": [
    "Now, let us solve the following equations:"
   ]
  },
  {
   "cell_type": "markdown",
   "id": "f177c1a6",
   "metadata": {},
   "source": [
    "\n",
    "$$\n",
    "\\begin{align}\n",
    "   \\begin{cases}\n",
    "      \\sqrt{1-\\rho} - \\sqrt{1 - \\hat{\\rho}} ={}& \\frac{\\Delta{d}}{\\sqrt{2m}}\n",
    "      \\\\\n",
    "      \\rho - \\hat{\\rho} = \\frac{\\Delta{cov}}{s}\n",
    "    \\end{cases}\n",
    "\\end{align}\n",
    "$$"
   ]
  },
  {
   "cell_type": "markdown",
   "id": "e47990d3",
   "metadata": {},
   "source": [
    "we define new variables:\n",
    "\n",
    "$\\rho' \\triangleq 1 - \\rho$; note that $\\rho'$ is in range `[0, 2]`\n",
    "\n",
    "$\\hat{\\rho}' \\triangleq 1 - \\hat{\\rho}$; note that $\\hat{\\rho}'$ is in range `[0, 2]`"
   ]
  },
  {
   "cell_type": "markdown",
   "id": "bee64357",
   "metadata": {},
   "source": [
    "Hence, we now have:"
   ]
  },
  {
   "cell_type": "markdown",
   "id": "d0d3e4f6",
   "metadata": {},
   "source": [
    "\n",
    "$$\n",
    "\\begin{align}\n",
    "   \\begin{cases}\n",
    "      \\sqrt{\\rho'} - \\sqrt{\\hat{\\rho}'} ={}& \\frac{\\Delta{d}}{\\sqrt{2m}}\n",
    "      \\\\\n",
    "      \\hat{\\rho}' - \\rho' ={}& \\frac{\\Delta{cov}}{s}\n",
    "    \\end{cases}\n",
    "\\end{align}\n",
    "$$"
   ]
  },
  {
   "cell_type": "markdown",
   "id": "1060a03e",
   "metadata": {},
   "source": [
    "And, we define new variables:\n",
    "\n",
    "$x \\triangleq \\sqrt{\\rho'}$, note that x is in range $[0, \\sqrt{2}]$\n",
    "\n",
    "$y \\triangleq \\sqrt{\\hat{\\rho}'}$, note that x is in range $[0, \\sqrt{2}]$"
   ]
  },
  {
   "cell_type": "markdown",
   "id": "521b5726",
   "metadata": {},
   "source": [
    "Hence:"
   ]
  },
  {
   "cell_type": "markdown",
   "id": "f144188c",
   "metadata": {},
   "source": [
    "\n",
    "$$\n",
    "\\begin{align}\n",
    "   \\begin{cases}\n",
    "      x - y ={}& \\frac{\\Delta{d}}{\\sqrt{2m}}\n",
    "      \\\\\n",
    "      y^{2} - x^{2} ={}& \\frac{\\Delta{cov}}{s}\n",
    "    \\end{cases}\n",
    "\\end{align}\n",
    "$$\n"
   ]
  },
  {
   "cell_type": "markdown",
   "id": "d42b7e1f",
   "metadata": {},
   "source": [
    "Thus,\n",
    "\n",
    "\n",
    "$$\n",
    "\\begin{align}\n",
    "   \\begin{cases}\n",
    "      x - y ={}& \\frac{\\Delta{d}}{\\sqrt{2m}}\n",
    "      \\\\\n",
    "      (y - x)(y + x) ={}& \\frac{\\Delta{cov}}{s}\n",
    "    \\end{cases}\n",
    "\\end{align}\n",
    "$$\n"
   ]
  },
  {
   "cell_type": "markdown",
   "id": "172ab9e8",
   "metadata": {},
   "source": [
    "By dividing the second equation by the first equation, we can find the equation for `y + x`. Hence:"
   ]
  },
  {
   "cell_type": "markdown",
   "id": "d305e9ea",
   "metadata": {},
   "source": [
    "\n",
    "$$\n",
    "\\begin{align}\n",
    "   \\begin{cases}\n",
    "      x - y ={}& \\frac{\\Delta{d}}{\\sqrt{2m}}\n",
    "      \\\\\n",
    "      y + x ={}& \\frac{\\Delta{cov}\\sqrt{2m}}{s\\Delta{d}}\n",
    "    \\end{cases}\n",
    "\\end{align}\n",
    "$$\n"
   ]
  },
  {
   "cell_type": "markdown",
   "id": "e23c1cf3",
   "metadata": {},
   "source": [
    "Now, we can solve this system of equations for `x` and `y`. Hence:"
   ]
  },
  {
   "cell_type": "markdown",
   "id": "ad92ebe0",
   "metadata": {},
   "source": [
    "\n",
    "$$\n",
    "\\begin{align}\n",
    "   \\begin{cases}\n",
    "      x  ={}& \\frac{1}{2}\\left(\n",
    "      \\frac{\\Delta{d}}{\\sqrt{2m}}\n",
    "      + \n",
    "      \\frac{\\Delta{cov}\\sqrt{2m}}{s\\Delta{d}}\n",
    "      \\right)\n",
    "      \\\\\n",
    "      y  ={}& \\frac{1}{2}\\left(\n",
    "      \\frac{\\Delta{cov}\\sqrt{2m}}{s\\Delta{d}}\n",
    "      -\n",
    "      \\frac{\\Delta{d}}{\\sqrt{2m}}\n",
    "      \\right)\n",
    "    \\end{cases}\n",
    "\\end{align}\n",
    "$$\n"
   ]
  },
  {
   "cell_type": "markdown",
   "id": "5339fd90",
   "metadata": {},
   "source": [
    "Now, recall that `x` and `y` are in range $[0, \\sqrt{2}]$. Let us work with x:"
   ]
  },
  {
   "cell_type": "markdown",
   "id": "ae04a639",
   "metadata": {},
   "source": [
    "\n",
    "\n",
    "$$\n",
    "\\begin{align}\n",
    "0 \\le x \\le \\sqrt{2}\n",
    "\\end{align}\n",
    "$$\n"
   ]
  },
  {
   "cell_type": "markdown",
   "id": "cd1903d7",
   "metadata": {},
   "source": [
    "\n",
    "$$\n",
    "\\begin{align}\n",
    "0 \\le \n",
    "\\frac{1}{2}\\left(\n",
    "      \\frac{\\Delta{d}}{\\sqrt{2m}}\n",
    "      + \n",
    "      \\frac{\\Delta{cov}\\sqrt{2m}}{s\\Delta{d}}\n",
    "      \\right)\n",
    "\\le \\sqrt{2}\n",
    "\\end{align}\n",
    "$$"
   ]
  },
  {
   "cell_type": "markdown",
   "id": "094ac4fe",
   "metadata": {},
   "source": [
    "In the STUMPY, we would like to have $|\\Delta{d}| \\le \\epsilon_{d}$, where $\\epsilon_{d}$ is set to `1e-5` (because `stumpy.config.STUMPY_TEST_PRECISION = 5`. \n",
    "\n",
    "For now, let us assume $\\Delta{d}$ is positive. By multiplying the inequality above by $\\Delta{d}$, we will have:"
   ]
  },
  {
   "cell_type": "markdown",
   "id": "ad5e18e3",
   "metadata": {},
   "source": [
    "\n",
    "\n",
    "$$\n",
    "\\begin{align}\n",
    "0 \\le \n",
    "\\frac{1}{2}\\left(\n",
    "      \\frac{(\\Delta{d})^{2}}{\\sqrt{2m}}\n",
    "      + \n",
    "      \\frac{\\Delta{cov}\\sqrt{2m}}{s}\n",
    "      \\right)\n",
    "\\le \\sqrt{2}\\Delta{d}\n",
    "\\end{align}\n",
    "$$\n"
   ]
  },
  {
   "cell_type": "markdown",
   "id": "cf812933",
   "metadata": {},
   "source": [
    "Also, let us ignore $\\frac{(\\Delta{d})^{2}}{\\sqrt{2m}}$ as it will be a very small value. Hence:"
   ]
  },
  {
   "cell_type": "markdown",
   "id": "cb5ba86b",
   "metadata": {},
   "source": [
    "\n",
    "\n",
    "\n",
    "$$\n",
    "\\begin{align}\n",
    "0 \\le \n",
    "\\frac{1}{2}\\left(\n",
    "      \\frac{\\Delta{cov}\\sqrt{2m}}{s}\n",
    "      \\right)\n",
    "\\le \\sqrt{2}\\Delta{d}\n",
    "\\end{align}\n",
    "$$\n",
    "\n"
   ]
  },
  {
   "cell_type": "markdown",
   "id": "a716f1b3",
   "metadata": {},
   "source": [
    "Let us consider the right inequality: \n",
    "(also recall that we would like to have: $\\Delta{d} \\le \\epsilon_{d}$)"
   ]
  },
  {
   "cell_type": "markdown",
   "id": "5e376017",
   "metadata": {},
   "source": [
    "\n",
    "\n",
    "$$\n",
    "\\begin{align}\n",
    "\\frac{1}{2}\\left(\n",
    "      \\frac{\\Delta{cov}\\sqrt{2m}}{s}\n",
    "      \\right)\n",
    "\\le \\sqrt{2}\\Delta{d} \\le \\sqrt{2}\\epsilon_{d}\n",
    "\\end{align}\n",
    "$$\n",
    "\n"
   ]
  },
  {
   "cell_type": "markdown",
   "id": "ee6b37d9",
   "metadata": {},
   "source": [
    "Now, we can see:"
   ]
  },
  {
   "cell_type": "markdown",
   "id": "a75f7a60",
   "metadata": {},
   "source": [
    "\n",
    "$$\n",
    "\\begin{align}\n",
    "s \\ge \\frac{\\Delta{cov}\\sqrt{m}}{2\\epsilon_{d}}\n",
    "\\end{align}\n",
    "$$\n",
    "\n"
   ]
  },
  {
   "cell_type": "markdown",
   "id": "4a1eaf05",
   "metadata": {},
   "source": [
    "Note that if $\\Delta{cov}$ becomes 0, then we have $s \\ge 0$, which is obvious because `s` is multiplication of two (non-negative) standard devation. We are interested in maximizing the right hand side so we can modify our code accordingly and make sure it will have no imprecision. It should be reasonable* to consider the highest error `1e-10` for $\\Delta{cov}$.\n",
    "\n",
    "*note: this is based on the observation I got after exploring cov values.\n",
    "\n",
    "Therefore:"
   ]
  },
  {
   "cell_type": "markdown",
   "id": "ecbc9bf2",
   "metadata": {},
   "source": [
    "\n",
    "$$\n",
    "\\begin{align}\n",
    "s \\ge \\frac{10^{-10}\\sqrt{m}}{2(10^{-5})} \n",
    "\\\\\n",
    "s \\ge 10^{-5}\\sqrt{\\frac{m}{4}}\n",
    "\\end{align}\n",
    "$$\n"
   ]
  },
  {
   "cell_type": "markdown",
   "id": "f91ae08b",
   "metadata": {},
   "source": [
    "So, if we get a imprecision of `10e-10` or lower (i.e. better imprecision), then, we would be fine if we have $s \\ge s{*}$, where $s^{*} = 10^{-5}\\sqrt{\\frac{m}{4}}$. "
   ]
  },
  {
   "cell_type": "code",
   "execution_count": null,
   "id": "c92ccc6d",
   "metadata": {},
   "outputs": [],
   "source": []
  }
 ],
 "metadata": {
  "kernelspec": {
   "display_name": "Python 3 (ipykernel)",
   "language": "python",
   "name": "python3"
  },
  "language_info": {
   "codemirror_mode": {
    "name": "ipython",
    "version": 3
   },
   "file_extension": ".py",
   "mimetype": "text/x-python",
   "name": "python",
   "nbconvert_exporter": "python",
   "pygments_lexer": "ipython3",
   "version": "3.9.13"
  }
 },
 "nbformat": 4,
 "nbformat_minor": 5
}
