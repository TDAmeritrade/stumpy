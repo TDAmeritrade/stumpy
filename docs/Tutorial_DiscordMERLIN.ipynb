{
 "cells": [
  {
   "cell_type": "markdown",
   "id": "ae46c498",
   "metadata": {},
   "source": [
    "# Finding discords of any length in a time series"
   ]
  },
  {
   "cell_type": "markdown",
   "id": "c541d34a",
   "metadata": {},
   "source": [
    "This tutorial explains the MERLIN algorithm, proposed in [MERLIN](https://www.cs.ucr.edu/~eamonn/MERLIN_Long_version_for_website.pdf). The support webpage can be found here: [MERLIN: SUPPORT](https://sites.google.com/view/merlin-find-anomalies).\n",
    "\n",
    "The algorithm discovers the discords of arbitrary length in time series. It is worthwhile to note that the term arbitrary means the user can define a range for the length of discord (i.e. minimum length, `minL`, and maximum length, `maxL`). The algorithm finds discords of different lengths `L` $\\in$ `[minL, maxL]`."
   ]
  },
  {
   "cell_type": "markdown",
   "id": "b3222ef3",
   "metadata": {},
   "source": [
    "## What is a discord?\n",
    "A subsequence of length `L` in a time series `T` is a discord **iff** it has the largest distance (hereafter being referred to as `discord_dist`) to its `[first]` nearest neighbor (`NN`). The neighbors of a subsequence of length `L`, starting at index `i`, is any other subsequences that start at an index `j`, such that `j!=i`. However, if `i` and `j` are very close to each other, the comparison between their corresponding subsequences is considered to be trivial. To this end, an exclusion zone (`excl_zone`) is taken into account to ignore the neighbors (i.e. subsequences) whose starting index is in numpy indexing `[i-excl_zone : i+excl_zone+1]`. \n",
    "\n",
    "**NOTE:** <br>\n",
    "It is important to note that for the subsequenc `S = T[i:i+L]`, some of its neighbors are located on the left of `S` (i.e. the ones with starting index less than/equal to `max(0, i-excl_zone-1)`) and some of its neighbors are located on the right of `S` (i.e. the ones with starting index greater than/equal to `min(len(T), i+excl_zone+1)`). To find the `NN` of a subsequence `S`, the distance between `S` and all of its `[left and right]` neighbors must be obtained."
   ]
  },
  {
   "cell_type": "markdown",
   "id": "83e21524",
   "metadata": {},
   "source": [
    "## Matrix Profile approach"
   ]
  },
  {
   "cell_type": "markdown",
   "id": "1ee019bb",
   "metadata": {},
   "source": [
    "How can we discover a discord of length `L` using matrix profile(`P`)? The solution is straightforward. `P` shows the distance of each subsequence to its `NN`. Therefore, the one that has the greatest distance to its `NN` is considered as the discord.\n",
    "\n",
    "There are some advantages/disadvantages in using `P` when it comes to discovering discords:\n",
    "\n",
    "* **Advantage:** <br>\n",
    "Once we have the `P`, finding the discord is easy. Also, one can obtain the `top-k` discords very quickly by locating the first `k` largest distances in `P`.\n",
    "\n",
    "* **Disadvantage:** <br>\n",
    "`P` needs to be calculated for each new length `L` in `[minL, maxL]`, and, consequently, ALL pair-wise distances need to be calculated. Because, ALL pairwise distances are required for obtaining `P`. \n",
    "\n",
    "As will be shown later, `MERLIN` can skip some  of the pair-wise distance calculations. Also, it can use the `discord_dist` of length `L` to narrow down the search space for disovering the discord of length `L+1`."
   ]
  },
  {
   "cell_type": "markdown",
   "id": "199cc02c",
   "metadata": {},
   "source": [
    "## MERLIN"
   ]
  },
  {
   "cell_type": "markdown",
   "id": "a84a2c26",
   "metadata": {},
   "source": [
    "There are two main ideas at the core of the `MERLIN` algorithm. In below, we briefly explain each concept. Then, we will show its implementation and discuss its performance."
   ]
  },
  {
   "cell_type": "markdown",
   "id": "4397ad73",
   "metadata": {},
   "source": [
    "### Idea (1): Elimination Approach\n",
    "The idea can be explained as follows: Suppose we are told that the discord distance (`discord_dist`) of length `L` is at least `min_dist` (Please note that the \"how\" of setting the `min_dist` value will be explained later in Idea(2)). That means the distance between the discord and each one of its neighbors is at least min_dist. We start scanning the subsequences. If, for a subsequence S, we realize that it has a neighbor to which its distance is smaller than `min_dist`, we can say S cannot be the discord. \n",
    "\n",
    "The main idea is to eliminate all subsequences for which there exist at least one neighbor with pair-wise distance less than `min_dist`. Therefore, the remaining subsequences (i.e. candidates) are the ones that have a distance great than/equal to `min_dist`. Now, we can find the `NN` of each candidate and choose the discord, i.e. the one that has the greatest distance to its `NN`. \n",
    "\n",
    "---\n",
    "\n",
    "The smaller amount of candidates is the better. This is where choosing a good value for `min_dist` becomes important. For instance, let us consider two very extreme scenarios:\n",
    "\n",
    "**Scenario I:** Choosing a VERY SMALL value for `min_dist`. In this case, we can end up with almost all subsequnces as the candidates.\n",
    "\n",
    "**Scenario II:** Choosing a VERY LARGE value for `min_dist`. In this case, we can end up with no candidates at all. \n",
    "\n",
    "In below, we explain how MERLIN chooses the value for `min_dist`.\n",
    "\n",
    "### Idea (2): Choosing `min_dist`\n",
    "Let us assume we already discovered the discord `d` of length `L` whose distance to its NN (`d_NN`) is `discord_dist`. Now, to find the discord of length `L+1`, we can set `min_dist = discord_dist` if the distance is non-normalized Euclidean distance. The reason lies in the fact that increasing the length of subsequence results in an incease in the non-normalized Euclidean distance. In z-normalized Euclidean distance, however, increasing L may increase, decrease, or not change the distance. The authors of the [MERLIN](https://www.cs.ucr.edu/~eamonn/MERLIN_Long_version_for_website.pdf) paper suggested a way to update `min_dist` for `L+1` based on the findings in `L`. We recommend interested reader to read the paper to understand their suggested approach. In the current implementation, however, we use `min_dist = discord_dist` (similar to the non-normalized case) as impelemented in the newer version of MERLIN.\n",
    "\n",
    "We also need a way to set the value of `min_dist` for the discord of length `L = minL` in the beginning of the algorithm. We cannot use the `discord_dist` as we haven't discovered any discord yet! In this case, we set `min_dist` to the maximum possible distance that can exist between two subsequences (please see below for the math!). Then, if we find no candidates (similar to the Scenario II above), we can reduce the `min_dist`. "
   ]
  },
  {
   "cell_type": "markdown",
   "id": "a3d8a9aa",
   "metadata": {},
   "source": [
    "---\n",
    "\n",
    "**NOTE: z-normalized and non-normalized Euclidean distance**<br>\n",
    "Please note that the [MERLIN](https://www.cs.ucr.edu/~eamonn/MERLIN_Long_version_for_website.pdf) paper used z-normalized euclidean distance to calculate the distance between any two subsequence. In this work, our focus is on both normalized- and non-normalized- Euclidean distances. In the following, we will show how we can use dot product to calculate these two distances. Using dot product will help us to use the power of vectorization in the (more efficient) implementation of the  algorithm. Also, an inital value  for `min_dist` will be calculated that will be used in the beginning of the main (MERLIN) algorithm."
   ]
  },
  {
   "cell_type": "markdown",
   "id": "ede8adaf",
   "metadata": {},
   "source": [
    "**z-normalizd Eucludiean distance ($ED_{z-norm}$):** <br>\n",
    "$ED_{z-norm}$ and the Pearson correlation ($PC$), between any two subsequences with length $m$, are related as follows [(berthold2016)](https://arxiv.org/pdf/1601.02213.pdf):\n",
    "\n",
    "$ED_{z-norm} = \\sqrt{2 \\times m \\times (1-PC)}$ \n",
    "\n",
    "On the other hand, the $PC$ can be calculated as $PC = \\frac{E[(X-\\mu_{X})(Y-\\mu_{Y})]}{\\sigma_{X}\\sigma_{Y}}$, which can be re-written as follows:\n",
    "\n",
    "$PC = \\frac{{\\frac{1}{m}}{\\sum\\limits_{t=1}^{m}} {(X_{t} - \\mu_{X})((Y_{t} - \\mu_{Y}))}}{\\sigma_{X}\\sigma_{Y}}$.\n",
    "\n",
    "Please note that a z-normalized subsequence has a mean ($\\mu$) of 0 and standard deviation ($\\sigma$) of 1. Therefore, the pearson correlation between two z-normalized subsequences becomes:\n",
    "\n",
    "$PC = {\\frac{1}{m}} <X_{z}, Y_{z}>$, where $<X_{z}, Y_{z}>$ is the dot product between two vectors $X_{z}$ and $Y_{z}$, where $X_{z}$ ($Y_{z}$) is a vector consists of the values of the subequene obtained by z-normalizing the subsequence $X$ ($Y$).\n",
    "\n",
    "\n",
    "So, the first formula becomes: <br>\n",
    "$ED_{z-norm} = \\sqrt{2 \\times m \\times (1 - {\\frac{1}{m}} <X_{z}, Y_{z}>)}$ \n",
    "\n",
    "\n",
    "\n",
    "Therefore, for a given $ED_{z-norm}$, one can calculate its corresponding dot product value as below: <br>\n",
    "$<X_{z}, Y_{z}> = m \\times (1 - \\frac{1}{2m}{ED_{z-norm}^{2}})$ <br>\n",
    "Thus, instead of comparing two z-normlized subsequences by calculating their (z-normlized) Euclidean distance, one can calculate the dot product of the two z-normalized subsequences. Please note that a higher Euclidean distance means lower dot product value. So, instead of using `min_dist` as the minimum distance a discord's candidate should have with all of its neighbors, one can use `r`, where $r = m \\times (1 - \\frac{1}{2m}{min\\_dist^{2}})$, as the maximum dot product value a discord's candidate should have with its neighbors.\n",
    "\n",
    "**Initial value for $ED_{z-norm}$**: <br>\n",
    "As discussed in [MERLIN](https://www.cs.ucr.edu/~eamonn/MERLIN_Long_version_for_website.pdf), the initial value for `min_dist` is set to its maximum possible value. This can be achieved by choosing the lowest value for $PC$ (i.e. -1). In that case, it can be observed that the initial value for `min_dist` is $2\\sqrt{m}$.\n",
    "\n",
    "---\n",
    "**non-normalizd Eucludiean distance ($ED$):** <br>\n",
    "$ED$ can still be calculated by the help of some dot products: <br>\n",
    "\n",
    "$ED^{2} = {||X-Y||}^{2}  =  <X-Y , X-Y>  =  <X.X> + <Y.Y>  -  2<X,Y>$ <br>\n",
    "Using the right hand side of the equation above may not make sense when we are iterating the subsequences in a for-loop one by one. However, in the more efficient version of MERLIN, where candidates are compared to more than one subsequencec in each iteration, this relationship can be helpful. We can calculate and store the two-norm of all subsequences in a 1-dim array. Then, we can use np.matmul() to calculate the last term (i.e. $<X,Y>$). We can get into further details later in the implementation.\n",
    "\n",
    "**Initial value for $ED$**: <br>\n",
    "Similar to the z-normalized case, we would like to set the value of the `min_dist` to the maximum possible value. Therefore:\n",
    "\n",
    "$min\\_dist^{2} = max ({||X-Y||}^{2}) = max \\sum\\limits_{t=1}^{m}(X_{t} - Y_{t})^{2} =  \\sum\\limits_{t=1}^{m}max{(X_{t} - Y_{t})^{2}} = \\sum\\limits_{t=1}^{m}{[max (|X_{t} - Y_{t}|)]}^{2} =  \\sum\\limits_{t=1}^{m}{(T_{max} - T_{min})^2} = {m} \\times{(T_{max} - T_{min})^2}$\n",
    "\n",
    "where, $T_{max}$ ($T_{min}$) is the maximum (minimum) value of the main time series $T$.\n",
    "\n",
    "And, this gives the maximum possible value for `min_dist` as follows: <br>\n",
    "$ min\\_dist = (|T_{max} - T_{min}|) \\sqrt{m}$"
   ]
  },
  {
   "cell_type": "markdown",
   "id": "6bd5968f",
   "metadata": {},
   "source": [
    "## Implement MERLIN\n",
    "It is worthwhile to note that a faster version of MERLIN is provided on the MERLIN's support webpage [MERLIN: SUPPORT](https://sites.google.com/view/merlin-find-anomalies). However, for now, we implement the version proposed in the original paper as it can be implemented in a cleaner/more understandable way."
   ]
  },
  {
   "cell_type": "markdown",
   "id": "fdb169bf",
   "metadata": {},
   "source": [
    "### Import libraries"
   ]
  },
  {
   "cell_type": "code",
   "execution_count": 1,
   "id": "a40d0bd2",
   "metadata": {},
   "outputs": [],
   "source": [
    "%matplotlib inline\n",
    "\n",
    "import pandas as pd\n",
    "import stumpy\n",
    "from stumpy import core, config\n",
    "import numpy as np\n",
    "import matplotlib.pyplot as plt\n",
    "import math\n",
    "import time\n",
    "\n",
    "plt.style.use('https://raw.githubusercontent.com/TDAmeritrade/stumpy/main/docs/stumpy.mplstyle')"
   ]
  },
  {
   "cell_type": "markdown",
   "id": "e812ecb0",
   "metadata": {},
   "source": [
    "### Import (toy) data\n",
    "data set is available at: \n",
    "https://drive.google.com/file/d/1cDkZVKYse_E0_fGZqTRQZrrMBRFrR2Mv/view\n"
   ]
  },
  {
   "cell_type": "code",
   "execution_count": 2,
   "id": "7d83b0b8",
   "metadata": {},
   "outputs": [
    {
     "data": {
      "image/png": "[encoded data removed]",
      "text/plain": [
       "<Figure size 1440x432 with 1 Axes>"
      ]
     },
     "metadata": {
      "needs_background": "light"
     },
     "output_type": "display_data"
    }
   ],
   "source": [
    "from scipy.io import loadmat\n",
    "\n",
    "data = loadmat(\"MERLIN_datasets\\\\NoisySine.mat\") \n",
    "ts = data['T'].reshape(-1,)\n",
    "\n",
    "#visualize data\n",
    "plt.plot(ts)\n",
    "plt.show()"
   ]
  },
  {
   "cell_type": "markdown",
   "id": "50733892",
   "metadata": {},
   "source": [
    "As we can see there is an anomaly located in about the middle of the time series data. Next, we will implement and then use MERLIN to discover the discord."
   ]
  },
  {
   "cell_type": "markdown",
   "id": "5b2a6412",
   "metadata": {},
   "source": [
    "### MERLIN- Part (I): DRAG --> Selecting Candidates  (then find discords) \\[for discord of length L\\]\n",
    "As explained before, the idea is to select a number of candidates by eliminating undesirable subsequences. A candidate is a subsequence whose distance to all of its neighbors are at least `min_dist` (then, we can search among these candidates and find the discord) Since some neighbors of a subsequence is located on its left and others on its right, this part can be done in three phases as follows "
   ]
  },
  {
   "cell_type": "markdown",
   "id": "877bb3e0",
   "metadata": {},
   "source": [
    "**MERLIN-Part(I): DRAG - Phase (I) --> Select Candidates** <br>\n",
    "It is important to note that the term \"candidates\" in \"select candidates\" is different than the one we discussed so far. Here, some of the candidates (as will be explained shortly) might be false positive! That means, they HAVE a neighbor to which their distance is smaller than `min_dist`. These false positives will be pruned in the second phase of DRAG. \n",
    "\n",
    "In this phase, we compare each subsequence (i.e. potential candidate) with ALL of its RIGHT neighbors by calculating their dot product (instead of their euclidean distance). **NOTE:** We might end up with some false positives because we haven't check the LEFT neighbors YET. We compare each candidate with its LEFT neighbors in the second phase (to prune the false positives)."
   ]
  },
  {
   "cell_type": "code",
   "execution_count": 42,
   "id": "52e2c6e8",
   "metadata": {},
   "outputs": [],
   "source": [
    "def _get_chunks_ranges(arr):\n",
    "    \"\"\"\n",
    "    This function takes an array that contains only integer numbers in ascending order, and return the\n",
    "    (inclusive) start index and (exclusive) stop index of numbers for each continuous segment in arr.\n",
    "    \n",
    "    Parameter\n",
    "    --------\n",
    "    arr: numpy.ndarray\n",
    "    1-dim numpy array that contains integer numbers in ascending order\n",
    "    \n",
    "    output\n",
    "    -------\n",
    "    out: numpy.ndarray\n",
    "    a 2-dim numpy array. Each row contains the information about the start/stop index of a segment with continuous numbers.\n",
    "    First columns gives the (inclusive) start index and second column gives the (exclusive) stop index of \n",
    "    continuous numbers in arr. \n",
    "    \"\"\"\n",
    "    repeats = np.full(len(arr), 2)\n",
    "    diff_is_one = np.diff(arr) == 1\n",
    "    repeats[1:] -= diff_is_one\n",
    "    repeats[:-1] -= diff_is_one\n",
    "    out = np.repeat(arr, repeats).reshape(-1, 2)\n",
    "    out[:, 1] += 1\n",
    "\n",
    "    return out"
   ]
  },
  {
   "cell_type": "code",
   "execution_count": 48,
   "id": "5ca33a89",
   "metadata": {},
   "outputs": [],
   "source": [
    "def _select_candidates(T, m, min_dist, include=None):\n",
    "    \"\"\"\n",
    "    For a time series T, this function finds a set of candidates whose distance to all of their RIGHT neighbors is \n",
    "    at least min_dist. \n",
    "    \n",
    "    Parameters\n",
    "    ---------\n",
    "    T : numpy.ndarray\n",
    "    The time series or sequence from which to get top-k discords\n",
    "    \n",
    "    m : int\n",
    "    Window size\n",
    "    \n",
    "    min_dist: scalar \n",
    "    the lowest z-normalized Euclidean distance that a discord should have with ALL of its neighbors. \n",
    "    \n",
    "    NOTE: min_dist is passed to this function when it is called inside the main function MERLIN.\n",
    "    \n",
    "    include: ndarray\n",
    "    is a 1d boolean array, with shape=(n,) where n is the total number of subsquences in the time series. \n",
    "    When include[i] is False, it will not be added to candidates. \n",
    "    \n",
    "    output\n",
    "    --------\n",
    "    is_cands: boolean numpy array\n",
    "    is_cands[i] is True if i is the starting index of a candidate (may contain false positives! see Note below.)\n",
    "    \n",
    "    NOTE:\n",
    "    (1) In this function, the selected candidates are gauranteed to have minimum distance of min_dist to \n",
    "    ALL of their RIGHT neighbors. Since we haven't checked them yet with their LEFT neighbors, some of the candidates \n",
    "    might be false positive, i.e. they have at least one LEFT neighbor to which their distance is less than min_dist.\n",
    "    \n",
    "    (2) Unlike the MERLIN paper where the exclusion zone is m, the default exclusion zone considered here\n",
    "    is the STUMPY default config m/4. This can be changed by setting config.STUMPY_EXCL_ZONE_DENOM.\n",
    "    \"\"\"    \n",
    "    n_T = T.shape[0]\n",
    "    n = n_T - m + 1 # number of subsequences\n",
    "    \n",
    "    is_cands = np.zeros(n, dtype=bool)\n",
    "    excl_zone = int(np.ceil(m / config.STUMPY_EXCL_ZONE_DENOM))\n",
    "    \n",
    "    if include is None: \n",
    "        include = np.ones(n, dtype=bool)\n",
    "        \n",
    "    if include.shape != (n, ):\n",
    "        raise ValueError(f\"The shape of include must be {(n,)}, where n is the total number of subsequences\")\n",
    "    \n",
    "    for i in range(0, n):\n",
    "        add_cand_i = include[i] \n",
    "        \n",
    "        if i > excl_zone:\n",
    "            left_non_trivial_cand_idx = np.flatnonzero(is_cands[:i-excl_zone])\n",
    "            cand_idx_chunks = _get_chunks_ranges(left_non_trivial_cand_idx) # get left_non_trivial cand indices in chunks\n",
    "            for (idx_start, idx_stop) in cand_idx_chunks:\n",
    "                D = stumpy.mass(T[i:i+m], T[idx_start: (idx_stop+m-1)], normalize=True)\n",
    "                mask = np.flatnonzero(D < min_dist)   \n",
    "                is_cands[idx_start:idx_stop][mask] = False\n",
    "\n",
    "                if len(mask):\n",
    "                    add_cand_i = False\n",
    "        \n",
    "        if add_cand_i:\n",
    "            is_cands[i] = True\n",
    "            \n",
    "    return is_cands"
   ]
  },
  {
   "cell_type": "code",
   "execution_count": 49,
   "id": "f543e846",
   "metadata": {},
   "outputs": [],
   "source": [
    "#input (as provided by the  authors of paper)\n",
    "m = 512 \n",
    "min_dist = 10.27 #min_dist is not required for MERLIN. This is just to show the code works.\n",
    "T = np.copy(ts)"
   ]
  },
  {
   "cell_type": "code",
   "execution_count": 50,
   "id": "67349676",
   "metadata": {},
   "outputs": [
    {
     "data": {
      "text/plain": [
       "array([ 584,  585,  586,  587,  588,  589,  590,  591,  592,  593,  594,\n",
       "        595,  596,  597,  598,  599,  600,  601,  602,  603,  604,  613,\n",
       "        614,  615,  616,  617,  618,  619,  620,  621,  622,  623,  624,\n",
       "        625,  626,  627,  628,  629,  630,  631,  632,  633,  634,  646,\n",
       "        647,  648,  649,  650,  651,  652,  653,  654,  655,  656,  657,\n",
       "        658,  659,  660,  661,  662,  663,  664,  665,  677,  678,  679,\n",
       "        680,  681,  682,  683,  684,  685,  686,  687,  688,  689,  690,\n",
       "        691,  692,  693,  694,  695,  696,  710,  711,  712,  713,  714,\n",
       "        715,  716,  717,  718,  719,  720,  749,  750,  751,  780,  781,\n",
       "        906,  907,  908, 1361, 1362, 1363, 1364, 1367, 1368, 1369, 1370,\n",
       "       1371, 1379, 1380, 1381, 1382, 1383, 1384, 1385, 1386, 1387, 1388,\n",
       "       1393, 1394, 1395, 1396, 1400, 1401, 1402, 1403, 1404, 1405, 1406,\n",
       "       1407, 1408, 1409, 1410, 1411, 1415, 1416, 1417, 1418, 1419, 1421,\n",
       "       1422, 1423, 1424, 1425, 1426, 1427, 1428, 1429, 1430, 1431, 1432,\n",
       "       1433, 1434, 1435, 1436, 1437, 1439, 1440, 1441, 1442, 1443, 1444,\n",
       "       1445, 1446, 1447, 1448, 1449, 1450, 1451, 1470, 1471, 1472, 1473,\n",
       "       1474, 1475, 1476, 1477, 1478, 1479, 1480, 1481, 1482, 1483, 1488,\n",
       "       1489], dtype=int64)"
      ]
     },
     "execution_count": 50,
     "metadata": {},
     "output_type": "execute_result"
    }
   ],
   "source": [
    "is_cands = _select_candidates(T, m, min_dist)\n",
    "cand_index = np.flatnonzero(is_cands)\n",
    "cand_index"
   ]
  },
  {
   "cell_type": "markdown",
   "id": "b1960307",
   "metadata": {},
   "source": [
    "The number of so-far-selected candidates (188) are about one-tenth of total number of subsequences (1490). Also, some of them might be False Positives (that will be handled in the second phase.). \n",
    "\n",
    "Let's see if the anomaly part of the time series is covered by the selected candidates:"
   ]
  },
  {
   "cell_type": "code",
   "execution_count": 51,
   "id": "5272f085",
   "metadata": {},
   "outputs": [
    {
     "data": {
      "image/png": "[encoded data removed]",
      "text/plain": [
       "<Figure size 1440x432 with 1 Axes>"
      ]
     },
     "metadata": {
      "needs_background": "light"
     },
     "output_type": "display_data"
    }
   ],
   "source": [
    "plt.plot(ts, c='b')\n",
    "for idx in cand_index:\n",
    "    plt.plot(np.arange(idx,idx+m), ts[idx:idx+m], c='r')\n",
    "plt.show()"
   ]
  },
  {
   "cell_type": "markdown",
   "id": "197c12fc",
   "metadata": {},
   "source": [
    "As illustrated, the selected candidates cover the anomaly. Next, we implement the second phase of DRAG, Prune Candidates, which is basically just comparing the selected candidates with their LEFT neighbors. "
   ]
  },
  {
   "cell_type": "markdown",
   "id": "406c7607",
   "metadata": {},
   "source": [
    "**MERLIN-Part(I): DRAG - Phase (II) --> Prune Candidates**<br>\n",
    "In this phase, we compare the selected candidate with their LEFT neighbors. The goal is to prune any candidate that has at least one left neighbor to which its distance is less than `min_dist`. So, at the end of this process, the remaining candidates are the ones that have a minimum distance of `min_dist` to all of their neighbors."
   ]
  },
  {
   "cell_type": "code",
   "execution_count": null,
   "id": "f833483b",
   "metadata": {},
   "outputs": [],
   "source": []
  },
  {
   "cell_type": "code",
   "execution_count": 52,
   "id": "4810f1ef",
   "metadata": {},
   "outputs": [],
   "source": [
    "def _prune_candidates(T, m, min_dist, is_cands):\n",
    "    \"\"\"\n",
    "    For a time series T, this function prunes a set of candidates by comparing them with (all of) their LEFT neighbors. A\n",
    "    selected candidate will be removed if it has at least one left neighbor to which its distance is less than `min_dist`. \n",
    "    \n",
    "    Parameters\n",
    "    ---------\n",
    "    T : numpy.ndarray\n",
    "    The time series or sequence from which to get top-k discords\n",
    "    \n",
    "    m : int\n",
    "    Window size\n",
    "    \n",
    "    min_dist: scalar \n",
    "    the lowest z-normalized Euclidean distance that a discord should have with ALL of its neighbors. \n",
    "    \n",
    "    NOTE: min_dist is passed to this function when it is called inside the main function MERLIN.\n",
    "    \n",
    "    is_cands: boolean numpy array\n",
    "    the output of the function `_select_candidates`. \n",
    "    is_cand[i] is True if the subsequence starting at index i is selected as a candidate.\n",
    "    \n",
    "    \n",
    "    output\n",
    "    --------\n",
    "    is_cands: boolean numpy array\n",
    "    is_cands[i] is True if i is the starting index of a candidate\n",
    "    \n",
    "    NOTE:\n",
    "    Any candidate chosen by this function is guaranteed to have minimum distance of min_dist to ALL of its LEFT neighbors.\n",
    "    Therefore, if the argument is_cands is the output of _select_candidates, it can be guaranteed that any candidate\n",
    "    returned by this function have minimum distance of min_dist to ALL of its neighbors.\n",
    "    \"\"\"    \n",
    "    n_T = T.shape[0]\n",
    "    n = n_T - m + 1 # number of subsequences\n",
    "    subseqs = core.z_norm(core.rolling_window(T, m), axis=1) \n",
    "    \n",
    "    cands_idx = np.flatnonzero(is_cands)\n",
    "    \n",
    "    excl_zone = int(np.ceil(m / config.STUMPY_EXCL_ZONE_DENOM))\n",
    "    \n",
    "    r = m * (1.0 - ((min_dist ** 2.0) / (2.0 * m))) \n",
    "\n",
    "    for i in range(0, n):\n",
    "        if not np.any(is_cands):\n",
    "            break #means all candidates are pruned! no need to check further! There is nothing to return!\n",
    "        \n",
    "        non_trivial_cand = cands_idx[cands_idx > i + excl_zone] \n",
    "        \n",
    "        if not len(non_trivial_cand):\n",
    "            break #means we already reached a subsequence that has no candidates on its right neighbors!\n",
    "        \n",
    "        cand_idx_chunks = _get_chunks_ranges(non_trivial_cand)\n",
    "        for (idx_start, idx_stop) in cand_idx_chunks:\n",
    "            D = stumpy.mass(T[i:i+m], T[idx_start: (idx_stop+m-1)], normalize=True)\n",
    "            mask = np.flatnonzero(D < min_dist)\n",
    "            is_cands[idx_start: idx_stop][mask] = False\n",
    "        \n",
    "        \n",
    "    return is_cands"
   ]
  },
  {
   "cell_type": "code",
   "execution_count": null,
   "id": "e0c7b46c",
   "metadata": {},
   "outputs": [],
   "source": [
    "is_cands = _prune_candidates(T, m, min_dist, is_cands)\n",
    "cands = np.flatnonzero(is_cands)\n",
    "cands"
   ]
  },
  {
   "cell_type": "markdown",
   "id": "3d888c04",
   "metadata": {},
   "source": [
    "The number of final candidates (41) is about 3% of total number of subsequences (1490). In other words, out of the initial number of candidates (i.e. 1490), we just need to search among the 41 final candidates. We should note that choosing different values for `min_dist`can affect the performance of the algorithm (see Fig. 5 of the paper). For instance, choosing a very large value for `min_dist` may result in no candidates while choosing a very small value may result in a lot of candidates. Therefore, the algorithm should use a sound approach for adjusting `min_dist`. We will further discuss this matter when we implement the MERLIN algorithm itself. \n",
    "\n",
    "**Check if the dicord is covered by (some of) final candidates** <br>\n",
    "Let us see if the anomaly part of the time series is covered by these final candidates:"
   ]
  },
  {
   "cell_type": "code",
   "execution_count": null,
   "id": "1aa1d9cb",
   "metadata": {},
   "outputs": [],
   "source": [
    "plt.plot(ts, c='b')\n",
    "for idx in cands:\n",
    "    plt.plot(np.arange(idx,idx+m), ts[idx:idx+m], c='r')\n",
    "plt.show()"
   ]
  },
  {
   "cell_type": "markdown",
   "id": "6be2e116",
   "metadata": {},
   "source": [
    "As illustrated in the figure above, the left candidate covers the anomaly of the time series data. Please note that it is possible that some of the candidates may not cover the anomaly. For example, recall the scenario where `min_dist` is very small. In that case, most subsequences are going to be returned as candidates. So, it is not reasonable to expect the most left and/or right candidates (and/or some other candidates) cover the anomaly in all cases. \n",
    "\n",
    "We can still find the discord! As will be shown in the next step,  we will find the NN of each of the final candidates, and choose the candidate that has the greatest distance to its NN. "
   ]
  },
  {
   "cell_type": "markdown",
   "id": "81e912c0",
   "metadata": {},
   "source": [
    "**MERLIN-Part(I): DRAG - Phase (III) --> Find Discord**<br>\n",
    "After pruning the false positive candidates, we can find the NN of each of the remaining candidates. The candidate that has the greatest distance to its NN is the (top) discord."
   ]
  },
  {
   "cell_type": "code",
   "execution_count": null,
   "id": "d2c9cd8f",
   "metadata": {},
   "outputs": [],
   "source": [
    "def _find_discord(T, m, is_cands):\n",
    "    \"\"\"\n",
    "    For a time series T, this function finds the discord by searching among the chosen candidates.\n",
    " \n",
    "    Parameters\n",
    "    ---------\n",
    "    T : numpy.ndarray\n",
    "    The time series or sequence from which to get top-k discords\n",
    "    \n",
    "    m : int\n",
    "    Window size\n",
    "    \n",
    "    is_cands: boolean numpy array\n",
    "    the output of the function `_select_candidates`. \n",
    "    is_cands[i] is True if i is the starting index of a candidat\n",
    "    \n",
    "    \n",
    "    output\n",
    "    --------\n",
    "    discord_idx: int \n",
    "    the index of the discord\n",
    "    \n",
    "    discord_dist: float\n",
    "    the distance of the discord to its nearest neighbor\n",
    "    \n",
    "    discord_NN_idx: int\n",
    "    the index of the discord's nearest neighbor\n",
    "    \"\"\"    \n",
    "    cands = np.flatnonzero(is_cands)\n",
    "    \n",
    "    n_T = T.shape[0]\n",
    "    n = n_T - m + 1 # number of subsequences\n",
    "    \n",
    "    excl_zone = int(np.ceil(m / config.STUMPY_EXCL_ZONE_DENOM))\n",
    "    \n",
    "    #initialize outputs \n",
    "    discord_idx = -1\n",
    "    discord_dist = np.NINF\n",
    "    discord_nn_idx = -1\n",
    "    \n",
    "    for idx in cands:\n",
    "        D = stumpy.mass(T[idx:idx+m], T, normalize=True)\n",
    "        core.apply_exclusion_zone(D, idx, excl_zone, val=np.inf)\n",
    "\n",
    "        nn_idx = np.argmin(D) \n",
    "        \n",
    "        if D[nn_idx] > discord_dist:\n",
    "            discord_idx = idx\n",
    "            discord_dist = D[nn_idx]\n",
    "            discord_nn_idx = nn_idx\n",
    "               \n",
    "    \n",
    "    return discord_idx, discord_dist, discord_nn_idx"
   ]
  },
  {
   "cell_type": "code",
   "execution_count": null,
   "id": "dbeda75a",
   "metadata": {},
   "outputs": [],
   "source": [
    "discord_idx, discord_dist, discord_nn_idx = _find_discord(T, m, is_cands)\n",
    "\n",
    "print('the index of discord is: ', discord_idx)\n",
    "print('dist of discord to its NN is: ', discord_dist)\n",
    "print('the index of NN of the discord: ', discord_nn_idx)"
   ]
  },
  {
   "cell_type": "markdown",
   "id": "8711fa0f",
   "metadata": {},
   "source": [
    "**Now, let us use matrix profile (of stumpy package) to make sure the output of MERLIN-Part(I) is correct:**"
   ]
  },
  {
   "cell_type": "code",
   "execution_count": 41,
   "id": "77f5a86f",
   "metadata": {},
   "outputs": [
    {
     "name": "stdout",
     "output_type": "stream",
     "text": [
      ">>> using matrix profile to find the discord <<< \n",
      "\n",
      "the index of discord is:  718\n",
      "dist of discord to its nn is:  10.301397123539054\n",
      "the index of nn of the discord:  278\n"
     ]
    }
   ],
   "source": [
    "mp = stumpy.stump(ts, m)\n",
    "P = mp[:,0] #p: matrix profile (dist of each subseq to its NN)\n",
    "\n",
    "mp_discord_idx = np.argmax(P)\n",
    "mp_discord_dist = P[mp_discord_idx]\n",
    "mp_discord_nn_idx = mp[mp_discord_idx,1]\n",
    "\n",
    "print('>>> using matrix profile to find the discord <<< \\n')\n",
    "print('the index of discord is: ', discord_idx)\n",
    "print('dist of discord to its nn is: ', discord_dist)\n",
    "print('the index of nn of the discord: ', mp_discord_nn_idx)"
   ]
  },
  {
   "cell_type": "markdown",
   "id": "1cbadc67",
   "metadata": {},
   "source": [
    "### Finding `top-k` Discords (of length L)"
   ]
  },
  {
   "cell_type": "markdown",
   "id": "8c9295f6",
   "metadata": {},
   "source": [
    "In some cases, one might be interested in finding more than one discord. The authors of [MERLIN](https://www.cs.ucr.edu/~eamonn/MERLIN_Long_version_for_website.pdf) referred readers to the paper [DiskawareDiscords](https://www.cs.ucr.edu/~eamonn/DiskawareDiscords.pdf) for `top-k` discords. However, the paper [DiskawareDiscords](https://www.cs.ucr.edu/~eamonn/DiskawareDiscords.pdf) does not take into account the `excl_zone` when it tries to find the `top-k` discords. In other words, it can return the subsequences at `idx` and `idx+1` as the `top-2` discords! But, this is not a correct approach as the two discovered discords are the trivial match of each other! As one can observe in the MATLAB implementation of MERLIN provided in [MERLIN: SUPPORT](https://sites.google.com/view/merlin-find-anomalies), the `k-th` discord index should not be in the `exclusion area` of the previous `k-1` discords."
   ]
  },
  {
   "cell_type": "markdown",
   "id": "627cc198",
   "metadata": {},
   "source": [
    "**With matrix profile `P`:** <br>\n",
    "we can easily find the `top-k` discords by finding the largest value in `P` and store its index `idx`. Then, assigning `np.NINF` to the exlcusion area of `idx`, that is: \n",
    "`P[idx-excl_zone: idx+excl_zone+1] = np.NINF`. And, then find the largest value in the updated array `P`. `k` iterations of the same process can give us the `top-k` discords.\n"
   ]
  },
  {
   "cell_type": "markdown",
   "id": "b3cd0246",
   "metadata": {},
   "source": [
    "**With MERLIN:**\n",
    "\n",
    "In `MERLIN`, however, the `top-discord` is discovered by searching among some candidates rather than calculating the complete matrix profile. Therefore, to find `top-k`, we need to have (**enough**) candidates. For instane, suppose we are looking for `top-2` discords of length `100` in the time series `T` (`excl_zone=25` based on STUMPY default config). \n",
    "\n",
    "If, at the end of the second phase of MERLIN-Part(I), `cands = np.flatnonzero(is_cands)` contains only one index, say, `50`, that means we can just find the `top-discord` and we cannot find the second one as we don't have more candidates. The same thing is true if our `cands` ONLY contains `[50, 51, 52]`. Becuase, after finding the `top-discord` (e.g. `52`) and eliminating the candidates whose indices are in the exclusion area of `top-discord`, we are left with an empty `cands`. \n",
    "\n",
    "On the other hand, if `cands` contains `[50, 200]`, we can easily find the `top-2` discords in our first attempt as finding the `top-discord` doesn't lead to the elimination of the other candidate in this case. Please note that `[50, 200]` is still not enough if we are interested in `top-k` with `k>2`.  \n",
    "\n",
    "**NOTE** <br>\n",
    "As we will see shortly below, we do not check if we can get more than one discord from a set of candidates (at one attempt). **Instead,** we just find one discord, and then go through the whole process again to get the next one. Therefore, we go through the whole process of `select candidate -> prune candidate -> find discord` to find each discord of `top-k` !!! Please see below for more details. This approach is similar to the MATLAB implementation. I think the reason for getting only one discord (in each iteration of whole process) is that the candidates are probably close to each other for a good choice of `min_dist`. Therefore, if we find a discord from a set of candidates, the remaining candidates are probably in trivial match with the chosen discord. So, it might be better to not waste time searching for another discord on the same set of candidates, and instead, start the whole process again!"
   ]
  },
  {
   "cell_type": "markdown",
   "id": "000cf392",
   "metadata": {},
   "source": [
    "**> To find `top-k` discords** <br>\n",
    "Let us assume we already discovered the the first `i` discords. We can find the discord `i+1 -th` (of the same length) as follows: <br>\n",
    "(1) reduce `min_dist` (so we can get more candidates!) <br> \n",
    "(2) get candidates by `_select_candidates`function. <br>\n",
    "(3) remove the previously-discovered discord starting index and their trivial matches from the current set of candidates <br> \n",
    "(4) update candidates by pruning the false positive ones using `_prune_candidates` function. <br> \n",
    "(5) Find the `top-discord` by using `_find_discord` function. <br> "
   ]
  },
  {
   "cell_type": "code",
   "execution_count": 29,
   "id": "795df761",
   "metadata": {},
   "outputs": [],
   "source": [
    "def murlin(T, m, min_dist, k=1, warm_up_percentage=0.01, percentage=0.05):\n",
    "    \"\"\"\n",
    "    For a time series T, this function finds `top-k` discords.\n",
    "    \n",
    "    Parameters\n",
    "    ---------\n",
    "    T : numpy.ndarray\n",
    "    The time series or sequence from which to get top-k discords\n",
    "    \n",
    "    m : int\n",
    "    Window size\n",
    "    \n",
    "    min_dist: scalar \n",
    "    the lowest z-normalized Euclidean distance that a discord should have with ALL of its neighbors. \n",
    "    \n",
    "    NOTE: min_dist is passed to this function when it is called inside the main function MERLIN.\n",
    "    \n",
    "    k: int\n",
    "    number of discords to be discovered.\n",
    "    \n",
    "    warm_up_percentage: scalar\n",
    "    a value, between 0 and 1, that determines the rate of decrease of min_dist when a search for discord fails \n",
    "    for the very first top discord. \n",
    "    \n",
    "    percentage: scaler\n",
    "    a value, between 0 and 1, that determines the rate of decrease of min_dist when a search for the second or more\n",
    "    discords (of same length) fails.\n",
    "    \n",
    "\n",
    "    output\n",
    "    --------\n",
    "    out: ndarray\n",
    "    is a k-by-3 array. i-th row cosists of information of k-th discord.\n",
    "    First column is the discord index. Second column is the distance of discard to its Nearest Neighbor. \n",
    "    And, third column is the index of discord's NearestNeighbor.\n",
    "    \n",
    "    \n",
    "    NOTE: It is recommended that warm_up_percentage should be set to lower value than the value of \n",
    "    percentage.\n",
    "    \n",
    "    NOTE: \n",
    "    Please note that the rate of change of `min_dist`, originally proposed in the paper, was fixed. However, as authers stated,\n",
    "    the choice is not science-backed. The challenge is that a failed attempt may not be resolved by reducing min_dist in \n",
    "    small steps. Therefore, in this implementation, we increase the rate of change (in a linear manner) when we get a failed \n",
    "    attempts. Therefore, we can quickly hit a point where we get at least one candidate (at the end of second phase).\n",
    "    \"\"\" \n",
    "    if warm_up_percentage<=0:\n",
    "        raise ValueError('the value of warm_up_percentage should be positive')\n",
    "    if percentage<=0:\n",
    "        raise ValueError('the value of percentage should be positive')\n",
    "    \n",
    "    n_T = T.shape[0]\n",
    "    n = n_T - m + 1 # number of subsequences\n",
    "    \n",
    "    excl_zone = int(np.ceil(m / config.STUMPY_EXCL_ZONE_DENOM))\n",
    "    \n",
    "    k_discord_idx = np.full(k, -1, dtype=np.int64)\n",
    "    k_discord_dist = np.full(k, np.NINF, dtype=np.float64)\n",
    "    k_discord_nn_idx = np.full(k, -1, dtype=np.int64)\n",
    "    \n",
    "    include = np.ones(n, dtype=bool) \n",
    "    for i in range(k):\n",
    "        if np.all(include==False):\n",
    "            break #nothing left to explore!\n",
    "            \n",
    "        if i==0: \n",
    "            max_attempts = int(np.ceil(1/warm_up_percentage)) \n",
    "        else:\n",
    "            max_attempts = int(np.ceil(1/percentage))\n",
    "        \n",
    "        for n_attempts in range(1, max_attempts+1):\n",
    "            if np.all(include==False):\n",
    "                break #nothing left to explore!\n",
    "            \n",
    "            is_cands = _select_candidates(T, m, min_dist, include)\n",
    "            is_cands = _prune_candidates(T, m, min_dist, is_cands)\n",
    "            \n",
    "            #please note that we are updating min_dist (see below) even before checking `if np.any(is_cands)`.\n",
    "            #This approach is good if we return ALL possible discords (i.e. exhausting the candidates) from _find_discord \n",
    "            #NOTE: The current implementation of _find_discord, however, doesn't return all possible discords\n",
    "            #in this notebook. This will be revised in the future.\n",
    "            \n",
    "            if i==0:\n",
    "                min_dist = min_dist * (1 - warm_up_percentage * n_attempts)\n",
    "            else:\n",
    "                min_dist = min_dist * (1 - percentage * n_attempts)\n",
    "            \n",
    "            if np.any(is_cands): \n",
    "                break\n",
    "        \n",
    "        k_discord_idx[i], k_discord_dist[i], k_discord_nn_idx[i] = _find_discord(T, m, is_cands)\n",
    "        \n",
    "        #update `include`:\n",
    "        core.apply_exclusion_zone(include, k_discord_idx[i], excl_zone, val=False)\n",
    "    \n",
    "    out = np.empty((k, 3), dtype = object)\n",
    "    out[:, 0] = k_discord_idx\n",
    "    out[:, 1] = k_discord_dist\n",
    "    out[:, 2] = k_discord_nn_idx\n",
    "    \n",
    "    \n",
    "    return out"
   ]
  },
  {
   "cell_type": "code",
   "execution_count": 30,
   "id": "a808d1b0",
   "metadata": {},
   "outputs": [
    {
     "name": "stdout",
     "output_type": "stream",
     "text": [
      "i: 0\n",
      "min_dist:  10.27\n",
      "i: 1\n",
      "min_dist:  10.1673\n",
      "i: 2\n",
      "min_dist:  9.658934999999998\n",
      "i: 3\n",
      "min_dist:  9.175988249999998\n",
      "min_dist:  8.717188837499998\n",
      "min_dist:  7.845469953749999\n",
      "i: 4\n",
      "min_dist:  6.668649460687498\n",
      "min_dist:  6.335216987653123\n",
      "min_dist:  5.7016952888878105\n",
      "min_dist:  4.846440995554639\n",
      "min_dist:  3.8771527964437116\n",
      "min_dist:  2.9078645973327837\n",
      "min_dist:  2.0355052181329483\n",
      "i: 5\n",
      "min_dist:  1.3230783917864162\n",
      "i: 6\n",
      "min_dist:  1.2569244721970954\n",
      "i: 7\n",
      "min_dist:  1.1940782485872405\n",
      "i: 8\n",
      "min_dist:  1.1343743361578784\n",
      "i: 9\n",
      "min_dist:  1.0776556193499844\n",
      "running time:  157.17051720619202\n"
     ]
    },
    {
     "data": {
      "text/plain": [
       "array([[718, 10.301397123539054, 278],\n",
       "       [906, 10.271812911147414, 1283],\n",
       "       [589, 10.245937568875632, 149],\n",
       "       [1035, 8.487378272524422, 1412],\n",
       "       [1182, 2.251832876716716, 114],\n",
       "       [309, 2.236487359372799, 1377],\n",
       "       [1348, 2.2304736785593793, 154],\n",
       "       [154, 2.2304736785590227, 1348],\n",
       "       [1479, 2.2014556687632427, 285],\n",
       "       [5, 2.1913006977345946, 382]], dtype=object)"
      ]
     },
     "execution_count": 30,
     "metadata": {},
     "output_type": "execute_result"
    }
   ],
   "source": [
    "tic = time.time()\n",
    "out = murlin(T, m, min_dist=10.27, k=10)\n",
    "toc = time.time()\n",
    "print('running time: ', toc-tic)\n",
    "out"
   ]
  },
  {
   "cell_type": "markdown",
   "id": "482863c9",
   "metadata": {},
   "source": [
    "**NOTEs** <br>\n",
    "(1) Please note that MERLIN and MERLIN3_1 provide the (same) implementation for `top-k` discords. MERLIN3 does NOT provide an implementation for discovering `top_k` discords. We will work on `top-k` later after finishing the implementation for returning top-1 discord.\n",
    "\n",
    "(2) Please note that the complete implementation of MERLIN can discover discords of different length in `[minL, maxL]`. The current implementation of `_get_top_k_discords` is for `min_dist` provided by the user and not the weak bound `2*sqrt(m)`. (We will see later that there will be some small changes when we wan to implement the complete MERLIN.)\n",
    "\n",
    "(3) If an attamp fails (i.e. no candidates are being returned after the second phase- `_prune_candidates`), we need to lower the `min_dist` to let more candidates be discovered. **While MATLAB implementation uses a fixed value (0.99 or 0.95) for rate of change of `min_dist`, we, in this implementation, increase `the rate of change` as we get more and more failed attempts.** Getting failed attemeps is a sign that tells us `min_dist` needs to be lower. While we can use the same rate of change, we should better increase the rate of change (i.e. reducing `min_dist` faster), so we can quickly find a value of `min_dist` that results in at least one canddidates."
   ]
  },
  {
   "cell_type": "markdown",
   "id": "74bb6408",
   "metadata": {},
   "source": [
    "**Let us use matrix profile to find `top-k` discords**"
   ]
  },
  {
   "cell_type": "code",
   "execution_count": 51,
   "id": "fb58320b",
   "metadata": {},
   "outputs": [],
   "source": [
    "def stumpy_top_k_discords(T, m, k = 1):\n",
    "    \"\"\"\n",
    "    This funciton use stumpy package to find the `top-k` discords, of length m, in time series ts.\n",
    "    \n",
    "    Parameters\n",
    "    ---------\n",
    "    T : numpy.ndarray\n",
    "    The time series or sequence from which to get top-k discords\n",
    "    \n",
    "    m : int\n",
    "    Window size\n",
    "        \n",
    "    k: int\n",
    "    number of discords to be discovered.\n",
    "    \n",
    "    output\n",
    "    --------\n",
    "    out: ndarray\n",
    "    is a k-by-3 array. i-th row cosists of information of k-th discord.\n",
    "    First column is the discord index. Second column is the distance of discard to its Nearest Neighbor. \n",
    "    And, third column is the index of discord's NearestNeighbor.\n",
    "    \"\"\"\n",
    "    excl_zone = int(np.ceil(m / config.STUMPY_EXCL_ZONE_DENOM))\n",
    "    \n",
    "    mp = stumpy.stump(T, m)\n",
    "    P = mp[:,0].astype(np.float64) #change the dtype to np.float64, so it can be used later in core.apply_exclusion_zone\n",
    "    \n",
    "    k_discord_idx = np.full(k, -1, dtype=np.int64)\n",
    "    k_discord_dist = np.full(k, np.NINF, dtype=np.float64)\n",
    "    k_discord_nn_idx = np.full(k, -1, dtype=np.int64)\n",
    "    \n",
    "    for i in range(k):\n",
    "        mp_discord_idx = np.argmax(P)\n",
    "        \n",
    "        k_discord_idx[i] = mp_discord_idx\n",
    "        k_discord_dist[i] = P[mp_discord_idx]\n",
    "        k_discord_nn_idx[i] = mp[mp_discord_idx,1]\n",
    "        \n",
    "        core.apply_exclusion_zone(P, k_discord_idx[i], excl_zone, val=np.NINF)\n",
    "    \n",
    "    out = np.empty((k, 3), dtype = object)\n",
    "    out[:, 0] = k_discord_idx\n",
    "    out[:, 1] = k_discord_dist\n",
    "    out[:, 2] = k_discord_nn_idx\n",
    "    \n",
    "    return out"
   ]
  },
  {
   "cell_type": "code",
   "execution_count": 52,
   "id": "0fc1acea",
   "metadata": {},
   "outputs": [
    {
     "data": {
      "text/plain": [
       "array([[718, 10.30139712353895, 278],\n",
       "       [906, 10.271812911147359, 1283],\n",
       "       [589, 10.245937568875583, 149],\n",
       "       [1035, 8.48737827252434, 1412],\n",
       "       [1182, 2.2518328767162363, 114],\n",
       "       [309, 2.236487359372494, 1377],\n",
       "       [154, 2.2304736785590227, 1348],\n",
       "       [1348, 2.2304736785590227, 154],\n",
       "       [1479, 2.2014556687629847, 285],\n",
       "       [5, 2.191300697734569, 382]], dtype=object)"
      ]
     },
     "execution_count": 52,
     "metadata": {},
     "output_type": "execute_result"
    }
   ],
   "source": [
    "mp_out = stumpy_top_k_discords(ts, m, k = 10)\n",
    "mp_out"
   ]
  },
  {
   "cell_type": "markdown",
   "id": "cd5121a9",
   "metadata": {},
   "source": [
    "As observed, the outputs of `_get_top_k_discords` and `stumpy_top_k_discords` are the same in finding the `top-k` (`k=10`) discords (please see below)."
   ]
  },
  {
   "cell_type": "code",
   "execution_count": 53,
   "id": "9e29425e",
   "metadata": {},
   "outputs": [],
   "source": [
    "#compare the output of murlin and stumpy_top_k_discord\n",
    "np.testing.assert_almost_equal(mp_out, out)"
   ]
  },
  {
   "cell_type": "markdown",
   "id": "e6260a22",
   "metadata": {},
   "source": [
    "### MERLIN- Part (II): merlin --> Find Discords of arbitrary lenght (between minL and maxL)\n",
    "Now, we are at a position to implement merlin, which basically iterates through the three-phase of MERLIN-Part(I) process and find the discords. The advantage of merlin is that it uses the result of `m = L` to initialize `min_dist` for `m = L+1`."
   ]
  },
  {
   "cell_type": "code",
   "execution_count": 55,
   "id": "a7b0fe6d",
   "metadata": {},
   "outputs": [],
   "source": [
    "def merlin(T, min_L=3, max_L=3, max_k=1, min_dist=None, start_up_percentage=0.2, warm_up_percentage=0.01, percentage=0.05):\n",
    "    \"\"\"\n",
    "    This funciton finds `top-k` discords for each length m in [min_L: max_L+1]\n",
    "    \n",
    "    Parameters\n",
    "    ---------\n",
    "    T : numpy.ndarray\n",
    "    The time series or sequence from which to get top-k discords\n",
    "    \n",
    "    min_L : int\n",
    "    minimum Window size \n",
    "    \n",
    "    max_L : int\n",
    "    maximum Window size\n",
    "    \n",
    "    max_k: int\n",
    "    maximum number of discords to discover.\n",
    "    \n",
    "    min_dist: scalar\n",
    "    a minimum distance that a discord must have with all of its neighbors. The default is None as the algorithm\n",
    "    finds it on its own. However, if an expert user knows its domain and can make a guess, it can feed it to the \n",
    "    algorithm.\n",
    "    \n",
    "    start_up_percentage: scaler\n",
    "    a value, between 0 and 1, that determines the rate of decrease of min_dist when a search for discord fails \n",
    "    for the very first top discord for m = min_L. In fact, This is what we use for warm_up_percentage when we \n",
    "    want to discover discords of length m = min_L.\n",
    "    \n",
    "    warm_up_percentage: scalar\n",
    "    a value, between 0 and 1, that determines the rate of decrease of min_dist when a search for discord fails \n",
    "    for the very first top discord for m > min_L.\n",
    "    \n",
    "    percentage: scaler\n",
    "    a value, between 0 and 1, that determines the rate of decrease of min_dist when a search for the second or more\n",
    "    discords (of same length) fails.\n",
    "    \n",
    "\n",
    "    output\n",
    "    --------\n",
    "    out: ndarray\n",
    "    is a k-by-4 array. each row stores information of one discord.\n",
    "    First column is the discord index. Second column is the distance of discard \n",
    "    to its Nearest Neighbor. Third column is the index of discord's NearestNeighbor. \n",
    "    Fourth column is the length of discord (m).\n",
    "    \n",
    "    For two discords stored at row-index i and row-index j (i<j), the discord at i has shorter or equal length \n",
    "    than the discord j. If the length of two discords are the same, the one at row-index i has larger distance to its NN\n",
    "    compared to the one at row-index j.\n",
    "    \n",
    "    \n",
    "    \n",
    "    NOTE:\n",
    "    Please note that higher values for start_up_percentage / warm_up_percentage / percentage may lead to a faster discovery \n",
    "    of candidates; however, it can result in a large set of candidates which can slow down the process. \n",
    "    In contrast to the original study, where min_dist is getting reduced by a constant factor C, the current implementation\n",
    "    uses a linear function to increase C when we get a failed attempt in discovering discords. This decision is made to make \n",
    "    a sound trade-off between the time required to find at least one candidate and the number of selected candidates.\n",
    "    \n",
    "    NOTE:\n",
    "    The paper's methodogy focused on z-normalized Euclidean distance as the distance measure of choice between two \n",
    "    subsequences. However, in the future version, a support for non-normalized Euclidean distance will be added to \n",
    "    the merlin tool.\n",
    "    \n",
    "    NOTE:\n",
    "    To ignore trival matches, the original paper used a full window size m. However, this implementation uses the default setting\n",
    "    of m/4.\n",
    "    \n",
    "    Ref:\n",
    "    DOI: 10.1109/ICDM50108.2020.00147\n",
    "    \"\"\"    \n",
    "    if min_dist is None:\n",
    "        min_dist = 2 * np.sqrt(min_L) #this is for z-normalizd Euclidean Distance. \n",
    "    \n",
    "    out = np.empty(shape=(0,4), dtype=object)\n",
    "    for m in range(min_L, max_L+1):\n",
    "        print(f'{m}', end='-->')\n",
    "        \n",
    "        if m == min_L:\n",
    "            top_k_discords = murlin(T, m, min_dist, max_k, start_up_percentage, percentage)           \n",
    "        else:\n",
    "            min_dist = top_k_discords[0,1] #i.e. we are using the \"topmost\" discord distance from previous stage\n",
    "            top_k_discords = murlin(T, m, min_dist, max_k, warm_up_percentage, percentage) \n",
    "            \n",
    "        \n",
    "        #NOTE:\n",
    "        #the number of discoverd discords might be less than k (for instance if max_k=100 but at some k<100, all the\n",
    "        #indices in timeseries are exhausted (i.e. np.all(include==False) == True).\n",
    "        \n",
    "        n_discords = top_k_discords.shape[0] \n",
    "        out = np.concatenate( (out, np.c_[top_k_discords, np.full(n_discords, m)]), axis=0)\n",
    "    \n",
    "    print('Done!\\n')\n",
    "    return out"
   ]
  },
  {
   "cell_type": "markdown",
   "id": "a54d51ab",
   "metadata": {},
   "source": [
    "**NOTE** <br>\n",
    "There are a few differences between the MERLIN proposed in the original paper and the implementation `merlin` provided above. The differences are as follows:\n",
    "* The original paper used a constant rate of change for reducing `min_dist`. However, we use a varaible rate of change. In the current implementation, the higher number of failed attempts results in a higher reduction in `min_dist`.\n",
    "\n",
    "\n",
    "* The original paper MERLIN's and MERLIN3.1's have the same approach in updating `min_dist`, and it is different than what provided in MERLN3. In MERLIN3, the `min_dist` for discord of length `m` is initially set to the topmost `discord_dist` of discord with length `m-1`. However, in MERLIN and MERLIN3.1, the authors considered a different (informal) approache. For discords of lenght $m \\in [min_L+1,min_L+4]$, the `min_dist` for topmost discord is initially set to `discord_dist` of discord with length `m-1`. However, for $m >= min_L+5$, the `min_dist` for topmost discord is initially set to $\\mu - 2\\delta$, where $\\mu$ is the average of topmost discord distance for discords with length `m-1`, `m-2`, `m-3`, `m-4`, and `m-5` (i.e. 5 previous topmost discords), and $\\delta$ is their standard deviation. The idea behind such approach is that z-normalized Euclidean distance between two subsequences with length `L` may be higher than/lower than/equal to the distance between subseqeunces of length `L-1`. So, if we just assign the `discord_dist` of discord with length `m-1` to the initial value of `min_dist` of discsord with length `m`, we MIGHT get a `min_dist` that  is too great or too small. The authors claimed that $min\\_dist = \\mu - 2\\delta$ is a better guess for `min_dist` when using normalized Euclidean distance. \n",
    "(**NOTE:** The implementation of `merlin` function in this notebook follows the approach provided in MERLIN3.)"
   ]
  },
  {
   "cell_type": "code",
   "execution_count": 56,
   "id": "70d5f9e8",
   "metadata": {},
   "outputs": [
    {
     "name": "stdout",
     "output_type": "stream",
     "text": [
      "510-->511-->512-->513-->514-->515-->516-->517-->518-->519-->520-->Done!\n",
      "\n"
     ]
    },
    {
     "data": {
      "text/plain": [
       "array([[719, 10.287049451580152, 279, 510],\n",
       "       [908, 10.258958295132146, 1285, 510],\n",
       "       [590, 10.238572791078045, 150, 510],\n",
       "       [1037, 8.469796875930504, 1414, 510],\n",
       "       [1182, 2.246630226871645, 365, 510],\n",
       "       [719, 10.29539669780294, 1096, 511],\n",
       "       [908, 10.26501547345843, 1285, 511],\n",
       "       [590, 10.24861380254933, 150, 511],\n",
       "       [1037, 8.470219572531107, 1414, 511],\n",
       "       [1182, 2.2487293472712664, 365, 511],\n",
       "       [718, 10.301397123539061, 278, 512],\n",
       "       [906, 10.271812911147453, 1283, 512],\n",
       "       [589, 10.24593756887562, 149, 512],\n",
       "       [1035, 8.487378272524442, 1412, 512],\n",
       "       [1182, 2.251832876716539, 114, 512],\n",
       "       [718, 10.307855914450672, 278, 513],\n",
       "       [906, 10.277811266083384, 1283, 513],\n",
       "       [588, 10.244546109282544, 148, 513],\n",
       "       [1036, 8.48031110165558, 1413, 513],\n",
       "       [1182, 2.2561469454106042, 114, 513],\n",
       "       [718, 10.312916271244402, 278, 514],\n",
       "       [906, 10.283153403344, 1283, 514],\n",
       "       [588, 10.254718746605898, 148, 514],\n",
       "       [1036, 8.48184764860544, 1413, 514],\n",
       "       [1182, 2.2582760493108975, 114, 514],\n",
       "       [717, 10.316063258634019, 277, 515],\n",
       "       [906, 10.28897751187031, 1283, 515],\n",
       "       [587, 10.250125778412741, 147, 515],\n",
       "       [1036, 8.476647404626, 1413, 515],\n",
       "       [1182, 2.2604888361615307, 114, 515],\n",
       "       [716, 10.316758474410813, 276, 516],\n",
       "       [905, 10.291801368479073, 1282, 516],\n",
       "       [586, 10.243398742811765, 146, 516],\n",
       "       [1035, 8.484839463923924, 1412, 516],\n",
       "       [1183, 2.2667967884095117, 115, 516],\n",
       "       [717, 10.317810149587986, 277, 517],\n",
       "       [905, 10.294056230477947, 1282, 517],\n",
       "       [586, 10.251793647754011, 146, 517],\n",
       "       [1036, 8.462732279882122, 1413, 517],\n",
       "       [1182, 2.2727140078739656, 114, 517],\n",
       "       [717, 10.319003231143746, 277, 518],\n",
       "       [904, 10.29490309264083, 1281, 518],\n",
       "       [586, 10.260647119299305, 146, 518],\n",
       "       [1035, 8.470858060614884, 1412, 518],\n",
       "       [1182, 2.2746301968198805, 114, 518],\n",
       "       [716, 10.319583195109736, 276, 519],\n",
       "       [904, 10.293577553900105, 1281, 519],\n",
       "       [585, 10.25149636538622, 145, 519],\n",
       "       [1035, 8.464844266454831, 1412, 519],\n",
       "       [1183, 2.28083531332892, 115, 519],\n",
       "       [715, 10.317481513542065, 275, 520],\n",
       "       [904, 10.291726018251678, 1281, 520],\n",
       "       [584, 10.240203376448436, 144, 520],\n",
       "       [1035, 8.458374736284478, 1412, 520],\n",
       "       [1182, 2.2866926615176966, 114, 520]], dtype=object)"
      ]
     },
     "execution_count": 56,
     "metadata": {},
     "output_type": "execute_result"
    }
   ],
   "source": [
    "T = ts; min_L = 510; max_L = 520;\n",
    "discords = merlin(T, min_L, max_L, max_k=5)\n",
    "discords"
   ]
  },
  {
   "cell_type": "code",
   "execution_count": 57,
   "id": "3cf526a5",
   "metadata": {},
   "outputs": [],
   "source": [
    "def stumpy_discords(T, min_L, max_L, max_k=1):\n",
    "    \"\"\"\n",
    "    This funciton use stumpy package to find the `top-k` discords for each length m in [min_L: max_L+1]\n",
    "    \n",
    "    Parameters\n",
    "    ---------\n",
    "    T : numpy.ndarray\n",
    "    The time series or sequence from which to get top-k discords\n",
    "    \n",
    "    min_L : int\n",
    "    minimum Window size \n",
    "    \n",
    "    max_L : int\n",
    "    maximum Window size\n",
    "        \n",
    "    max_k: int\n",
    "    maximum number of discords to be discovered.\n",
    "    \n",
    "    output\n",
    "    --------\n",
    "    out: ndarray\n",
    "    is a k-by-4 array. each row stores information of one discord.\n",
    "    First column is the discord index. Second column is the distance of discard \n",
    "    to its Nearest Neighbor. Third column is the index of discord's NearestNeighbor. \n",
    "    Fourth column is the length of discord (m).\n",
    "    \n",
    "    For two discords stored at row-index i and row-index j (i<j), the discord at i has shorter or equal length \n",
    "    than the discord j. If the length of two discords are the same, the one at row-index i (i.e. lower index) has larger distance to its NN\n",
    "    compared to the one at row-index j.\n",
    "    \"\"\"\n",
    "    out = np.empty(shape=(0,4), dtype=object)\n",
    "    \n",
    "    for m in range(min_L, max_L+1):\n",
    "        discords = stumpy_top_k_discords(T, m, max_k)\n",
    "        top_k_discords = discords[discords[:,0]>=0] #to ignore the ones with original fill_value -1 as discord index\n",
    "        \n",
    "        n_discords = top_k_discords.shape[0] \n",
    "        out = np.concatenate( (out, np.c_[top_k_discords, np.full(n_discords, m)]), axis=0)\n",
    "    \n",
    "    \n",
    "    return out"
   ]
  },
  {
   "cell_type": "code",
   "execution_count": 58,
   "id": "3488ea07",
   "metadata": {},
   "outputs": [],
   "source": [
    "#compare the output of merlin and stumpy_discords\n",
    "mp_discords = stumpy_discords(T, min_L, max_L, max_k=5)\n",
    "np.testing.assert_almost_equal(mp_discords, discords)"
   ]
  },
  {
   "cell_type": "code",
   "execution_count": null,
   "id": "d31bf4f6",
   "metadata": {},
   "outputs": [],
   "source": []
  },
  {
   "cell_type": "code",
   "execution_count": null,
   "id": "74a2f440",
   "metadata": {},
   "outputs": [],
   "source": []
  }
 ],
 "metadata": {
  "kernelspec": {
   "display_name": "Python 3 (ipykernel)",
   "language": "python",
   "name": "python3"
  },
  "language_info": {
   "codemirror_mode": {
    "name": "ipython",
    "version": 3
   },
   "file_extension": ".py",
   "mimetype": "text/x-python",
   "name": "python",
   "nbconvert_exporter": "python",
   "pygments_lexer": "ipython3",
   "version": "3.8.5"
  }
 },
 "nbformat": 4,
 "nbformat_minor": 5
}
